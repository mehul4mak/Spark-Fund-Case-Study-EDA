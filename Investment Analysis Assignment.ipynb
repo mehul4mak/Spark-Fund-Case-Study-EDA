{
 "cells": [
  {
   "cell_type": "markdown",
   "id": "c7836cad",
   "metadata": {},
   "source": [
    "#  Investment Case Study\n",
    "\n",
    "\n",
    "#### Spark Funds, an asset management company, wants to make investments in a few companies. The CEO of Spark Funds wants to understand the global trends in investments so that she can make investment decisions effectively.\n",
    "\n",
    "#### Spark Funds has two minor constraints for investments:\n",
    "    \n",
    "   1. It wants to invest between **5 to 15 million USD** per round of investment\n",
    "   2. It wants to invest only in **English-speaking countries** because of the ease of communication with the companies it would invest into.\n",
    "\n",
    "-------------\n",
    "#### Starategy:\n",
    "    Spark Funds wants to invest where most other investors are investing. This pattern is often observed among early-stage startup investors.\n",
    "--------\n",
    "#### The business objectives and goals of data analysis are pretty straightforward:\n",
    "   1. Business objective: \n",
    "       The objective is to identify the best sectors, countries, and a suitable investment type for making investments. The overall strategy is to invest where others are investing, implying that the 'best' sectors and countries are the ones where most investors are investing. <br>\n",
    "       \n",
    "\n",
    "   2. Goals of data analysis: Your goals are divided into three sub-goals: <br>\n",
    "   \n",
    "         1. Investment type analysis: Comparing the typical investment amounts in the venture, seed, angel, private equity, etc. so that Spark Funds can choose the type that is best suited for their strategy.<br>\n",
    "         \n",
    "         2. Country analysis: Identifying the countries which have been the most heavily invested in the past. These will be Spark Funds’ favorites as well.<br>\n",
    "         \n",
    "         3. Sector analysis: Understanding the distribution of investments across the eight main sectors. (Note that we are interested in the eight 'main sectors' provided in the mapping file. The two files — companies and rounds2 — have numerous sub-sector names; hence, you will need to map each sub-sector to its main sector.)"
   ]
  },
  {
   "cell_type": "markdown",
   "id": "612cf6eb",
   "metadata": {},
   "source": [
    "------"
   ]
  },
  {
   "cell_type": "markdown",
   "id": "dac995c9",
   "metadata": {},
   "source": [
    "# *Import Relevant Packages and Libraries*"
   ]
  },
  {
   "cell_type": "code",
   "execution_count": 1,
   "id": "d3aef5fc",
   "metadata": {},
   "outputs": [],
   "source": [
    "import numpy as np\n",
    "import pandas as pd\n",
    "\n",
    "#When using loc method to derive subdataframe it gives warning,in order to suppress that I've changed  values to 'None'.\n",
    "pd.options.mode.chained_assignment = None\n",
    "\n",
    "#for Visualization\n",
    "import matplotlib.pyplot as plt \n",
    "import seaborn as sns\n",
    "\n",
    "%matplotlib inline"
   ]
  },
  {
   "cell_type": "code",
   "execution_count": 2,
   "id": "d568831f",
   "metadata": {},
   "outputs": [],
   "source": [
    "#Reading companies and rounds2 file from directory\n",
    "\n",
    "companies=pd.read_csv('data/companies.csv',encoding = 'ISO-8859-1')\n",
    "rounds2=pd.read_csv('data/rounds2.csv',encoding = 'ISO-8859-1')"
   ]
  },
  {
   "cell_type": "code",
   "execution_count": 3,
   "id": "483121d4",
   "metadata": {},
   "outputs": [
    {
     "data": {
      "text/html": [
       "<div>\n",
       "<style scoped>\n",
       "    .dataframe tbody tr th:only-of-type {\n",
       "        vertical-align: middle;\n",
       "    }\n",
       "\n",
       "    .dataframe tbody tr th {\n",
       "        vertical-align: top;\n",
       "    }\n",
       "\n",
       "    .dataframe thead th {\n",
       "        text-align: right;\n",
       "    }\n",
       "</style>\n",
       "<table border=\"1\" class=\"dataframe\">\n",
       "  <thead>\n",
       "    <tr style=\"text-align: right;\">\n",
       "      <th></th>\n",
       "      <th>company_permalink</th>\n",
       "      <th>funding_round_permalink</th>\n",
       "      <th>funding_round_type</th>\n",
       "      <th>funding_round_code</th>\n",
       "      <th>funded_at</th>\n",
       "      <th>raised_amount_usd</th>\n",
       "    </tr>\n",
       "  </thead>\n",
       "  <tbody>\n",
       "    <tr>\n",
       "      <th>0</th>\n",
       "      <td>/organization/-fame</td>\n",
       "      <td>/funding-round/9a01d05418af9f794eebff7ace91f638</td>\n",
       "      <td>venture</td>\n",
       "      <td>B</td>\n",
       "      <td>05-01-2015</td>\n",
       "      <td>10000000.0</td>\n",
       "    </tr>\n",
       "    <tr>\n",
       "      <th>1</th>\n",
       "      <td>/ORGANIZATION/-QOUNTER</td>\n",
       "      <td>/funding-round/22dacff496eb7acb2b901dec1dfe5633</td>\n",
       "      <td>venture</td>\n",
       "      <td>A</td>\n",
       "      <td>14-10-2014</td>\n",
       "      <td>NaN</td>\n",
       "    </tr>\n",
       "    <tr>\n",
       "      <th>2</th>\n",
       "      <td>/organization/-qounter</td>\n",
       "      <td>/funding-round/b44fbb94153f6cdef13083530bb48030</td>\n",
       "      <td>seed</td>\n",
       "      <td>NaN</td>\n",
       "      <td>01-03-2014</td>\n",
       "      <td>700000.0</td>\n",
       "    </tr>\n",
       "    <tr>\n",
       "      <th>3</th>\n",
       "      <td>/ORGANIZATION/-THE-ONE-OF-THEM-INC-</td>\n",
       "      <td>/funding-round/650b8f704416801069bb178a1418776b</td>\n",
       "      <td>venture</td>\n",
       "      <td>B</td>\n",
       "      <td>30-01-2014</td>\n",
       "      <td>3406878.0</td>\n",
       "    </tr>\n",
       "    <tr>\n",
       "      <th>4</th>\n",
       "      <td>/organization/0-6-com</td>\n",
       "      <td>/funding-round/5727accaeaa57461bd22a9bdd945382d</td>\n",
       "      <td>venture</td>\n",
       "      <td>A</td>\n",
       "      <td>19-03-2008</td>\n",
       "      <td>2000000.0</td>\n",
       "    </tr>\n",
       "  </tbody>\n",
       "</table>\n",
       "</div>"
      ],
      "text/plain": [
       "                     company_permalink  \\\n",
       "0                  /organization/-fame   \n",
       "1               /ORGANIZATION/-QOUNTER   \n",
       "2               /organization/-qounter   \n",
       "3  /ORGANIZATION/-THE-ONE-OF-THEM-INC-   \n",
       "4                /organization/0-6-com   \n",
       "\n",
       "                           funding_round_permalink funding_round_type  \\\n",
       "0  /funding-round/9a01d05418af9f794eebff7ace91f638            venture   \n",
       "1  /funding-round/22dacff496eb7acb2b901dec1dfe5633            venture   \n",
       "2  /funding-round/b44fbb94153f6cdef13083530bb48030               seed   \n",
       "3  /funding-round/650b8f704416801069bb178a1418776b            venture   \n",
       "4  /funding-round/5727accaeaa57461bd22a9bdd945382d            venture   \n",
       "\n",
       "  funding_round_code   funded_at  raised_amount_usd  \n",
       "0                  B  05-01-2015         10000000.0  \n",
       "1                  A  14-10-2014                NaN  \n",
       "2                NaN  01-03-2014           700000.0  \n",
       "3                  B  30-01-2014          3406878.0  \n",
       "4                  A  19-03-2008          2000000.0  "
      ]
     },
     "execution_count": 3,
     "metadata": {},
     "output_type": "execute_result"
    }
   ],
   "source": [
    "rounds2.head()"
   ]
  },
  {
   "cell_type": "code",
   "execution_count": 4,
   "id": "78caa8dd",
   "metadata": {},
   "outputs": [
    {
     "data": {
      "text/html": [
       "<div>\n",
       "<style scoped>\n",
       "    .dataframe tbody tr th:only-of-type {\n",
       "        vertical-align: middle;\n",
       "    }\n",
       "\n",
       "    .dataframe tbody tr th {\n",
       "        vertical-align: top;\n",
       "    }\n",
       "\n",
       "    .dataframe thead th {\n",
       "        text-align: right;\n",
       "    }\n",
       "</style>\n",
       "<table border=\"1\" class=\"dataframe\">\n",
       "  <thead>\n",
       "    <tr style=\"text-align: right;\">\n",
       "      <th></th>\n",
       "      <th>permalink</th>\n",
       "      <th>name</th>\n",
       "      <th>homepage_url</th>\n",
       "      <th>category_list</th>\n",
       "      <th>status</th>\n",
       "      <th>country_code</th>\n",
       "      <th>state_code</th>\n",
       "      <th>region</th>\n",
       "      <th>city</th>\n",
       "      <th>founded_at</th>\n",
       "    </tr>\n",
       "  </thead>\n",
       "  <tbody>\n",
       "    <tr>\n",
       "      <th>0</th>\n",
       "      <td>/Organization/-Fame</td>\n",
       "      <td>#fame</td>\n",
       "      <td>http://livfame.com</td>\n",
       "      <td>Media</td>\n",
       "      <td>operating</td>\n",
       "      <td>IND</td>\n",
       "      <td>16</td>\n",
       "      <td>Mumbai</td>\n",
       "      <td>Mumbai</td>\n",
       "      <td>NaN</td>\n",
       "    </tr>\n",
       "    <tr>\n",
       "      <th>1</th>\n",
       "      <td>/Organization/-Qounter</td>\n",
       "      <td>:Qounter</td>\n",
       "      <td>http://www.qounter.com</td>\n",
       "      <td>Application Platforms|Real Time|Social Network...</td>\n",
       "      <td>operating</td>\n",
       "      <td>USA</td>\n",
       "      <td>DE</td>\n",
       "      <td>DE - Other</td>\n",
       "      <td>Delaware City</td>\n",
       "      <td>04-09-2014</td>\n",
       "    </tr>\n",
       "    <tr>\n",
       "      <th>2</th>\n",
       "      <td>/Organization/-The-One-Of-Them-Inc-</td>\n",
       "      <td>(THE) ONE of THEM,Inc.</td>\n",
       "      <td>http://oneofthem.jp</td>\n",
       "      <td>Apps|Games|Mobile</td>\n",
       "      <td>operating</td>\n",
       "      <td>NaN</td>\n",
       "      <td>NaN</td>\n",
       "      <td>NaN</td>\n",
       "      <td>NaN</td>\n",
       "      <td>NaN</td>\n",
       "    </tr>\n",
       "    <tr>\n",
       "      <th>3</th>\n",
       "      <td>/Organization/0-6-Com</td>\n",
       "      <td>0-6.com</td>\n",
       "      <td>http://www.0-6.com</td>\n",
       "      <td>Curated Web</td>\n",
       "      <td>operating</td>\n",
       "      <td>CHN</td>\n",
       "      <td>22</td>\n",
       "      <td>Beijing</td>\n",
       "      <td>Beijing</td>\n",
       "      <td>01-01-2007</td>\n",
       "    </tr>\n",
       "    <tr>\n",
       "      <th>4</th>\n",
       "      <td>/Organization/004-Technologies</td>\n",
       "      <td>004 Technologies</td>\n",
       "      <td>http://004gmbh.de/en/004-interact</td>\n",
       "      <td>Software</td>\n",
       "      <td>operating</td>\n",
       "      <td>USA</td>\n",
       "      <td>IL</td>\n",
       "      <td>Springfield, Illinois</td>\n",
       "      <td>Champaign</td>\n",
       "      <td>01-01-2010</td>\n",
       "    </tr>\n",
       "  </tbody>\n",
       "</table>\n",
       "</div>"
      ],
      "text/plain": [
       "                             permalink                    name  \\\n",
       "0                  /Organization/-Fame                   #fame   \n",
       "1               /Organization/-Qounter                :Qounter   \n",
       "2  /Organization/-The-One-Of-Them-Inc-  (THE) ONE of THEM,Inc.   \n",
       "3                /Organization/0-6-Com                 0-6.com   \n",
       "4       /Organization/004-Technologies        004 Technologies   \n",
       "\n",
       "                        homepage_url  \\\n",
       "0                 http://livfame.com   \n",
       "1             http://www.qounter.com   \n",
       "2                http://oneofthem.jp   \n",
       "3                 http://www.0-6.com   \n",
       "4  http://004gmbh.de/en/004-interact   \n",
       "\n",
       "                                       category_list     status country_code  \\\n",
       "0                                              Media  operating          IND   \n",
       "1  Application Platforms|Real Time|Social Network...  operating          USA   \n",
       "2                                  Apps|Games|Mobile  operating          NaN   \n",
       "3                                        Curated Web  operating          CHN   \n",
       "4                                           Software  operating          USA   \n",
       "\n",
       "  state_code                 region           city  founded_at  \n",
       "0         16                 Mumbai         Mumbai         NaN  \n",
       "1         DE             DE - Other  Delaware City  04-09-2014  \n",
       "2        NaN                    NaN            NaN         NaN  \n",
       "3         22                Beijing        Beijing  01-01-2007  \n",
       "4         IL  Springfield, Illinois      Champaign  01-01-2010  "
      ]
     },
     "execution_count": 4,
     "metadata": {},
     "output_type": "execute_result"
    }
   ],
   "source": [
    "companies.head()"
   ]
  },
  {
   "cell_type": "markdown",
   "id": "a7c8adf9",
   "metadata": {},
   "source": [
    "### Understanding  **rounds2** data and perform cleaning."
   ]
  },
  {
   "cell_type": "code",
   "execution_count": 5,
   "id": "08e18abe",
   "metadata": {
    "scrolled": true
   },
   "outputs": [
    {
     "data": {
      "text/html": [
       "<div>\n",
       "<style scoped>\n",
       "    .dataframe tbody tr th:only-of-type {\n",
       "        vertical-align: middle;\n",
       "    }\n",
       "\n",
       "    .dataframe tbody tr th {\n",
       "        vertical-align: top;\n",
       "    }\n",
       "\n",
       "    .dataframe thead th {\n",
       "        text-align: right;\n",
       "    }\n",
       "</style>\n",
       "<table border=\"1\" class=\"dataframe\">\n",
       "  <thead>\n",
       "    <tr style=\"text-align: right;\">\n",
       "      <th></th>\n",
       "      <th>company_permalink</th>\n",
       "      <th>funding_round_permalink</th>\n",
       "      <th>funding_round_type</th>\n",
       "      <th>funding_round_code</th>\n",
       "      <th>funded_at</th>\n",
       "      <th>raised_amount_usd</th>\n",
       "    </tr>\n",
       "  </thead>\n",
       "  <tbody>\n",
       "    <tr>\n",
       "      <th>0</th>\n",
       "      <td>/organization/-fame</td>\n",
       "      <td>/funding-round/9a01d05418af9f794eebff7ace91f638</td>\n",
       "      <td>venture</td>\n",
       "      <td>B</td>\n",
       "      <td>05-01-2015</td>\n",
       "      <td>10000000.0</td>\n",
       "    </tr>\n",
       "    <tr>\n",
       "      <th>1</th>\n",
       "      <td>/ORGANIZATION/-QOUNTER</td>\n",
       "      <td>/funding-round/22dacff496eb7acb2b901dec1dfe5633</td>\n",
       "      <td>venture</td>\n",
       "      <td>A</td>\n",
       "      <td>14-10-2014</td>\n",
       "      <td>NaN</td>\n",
       "    </tr>\n",
       "    <tr>\n",
       "      <th>2</th>\n",
       "      <td>/organization/-qounter</td>\n",
       "      <td>/funding-round/b44fbb94153f6cdef13083530bb48030</td>\n",
       "      <td>seed</td>\n",
       "      <td>NaN</td>\n",
       "      <td>01-03-2014</td>\n",
       "      <td>700000.0</td>\n",
       "    </tr>\n",
       "    <tr>\n",
       "      <th>3</th>\n",
       "      <td>/ORGANIZATION/-THE-ONE-OF-THEM-INC-</td>\n",
       "      <td>/funding-round/650b8f704416801069bb178a1418776b</td>\n",
       "      <td>venture</td>\n",
       "      <td>B</td>\n",
       "      <td>30-01-2014</td>\n",
       "      <td>3406878.0</td>\n",
       "    </tr>\n",
       "    <tr>\n",
       "      <th>4</th>\n",
       "      <td>/organization/0-6-com</td>\n",
       "      <td>/funding-round/5727accaeaa57461bd22a9bdd945382d</td>\n",
       "      <td>venture</td>\n",
       "      <td>A</td>\n",
       "      <td>19-03-2008</td>\n",
       "      <td>2000000.0</td>\n",
       "    </tr>\n",
       "    <tr>\n",
       "      <th>...</th>\n",
       "      <td>...</td>\n",
       "      <td>...</td>\n",
       "      <td>...</td>\n",
       "      <td>...</td>\n",
       "      <td>...</td>\n",
       "      <td>...</td>\n",
       "    </tr>\n",
       "    <tr>\n",
       "      <th>114944</th>\n",
       "      <td>/organization/zzzzapp-com</td>\n",
       "      <td>/funding-round/8f6d25b8ee4199e586484d817bceda05</td>\n",
       "      <td>convertible_note</td>\n",
       "      <td>NaN</td>\n",
       "      <td>01-03-2014</td>\n",
       "      <td>41313.0</td>\n",
       "    </tr>\n",
       "    <tr>\n",
       "      <th>114945</th>\n",
       "      <td>/ORGANIZATION/ZZZZAPP-COM</td>\n",
       "      <td>/funding-round/ff1aa06ed5da186c84f101549035d4ae</td>\n",
       "      <td>seed</td>\n",
       "      <td>NaN</td>\n",
       "      <td>01-05-2013</td>\n",
       "      <td>32842.0</td>\n",
       "    </tr>\n",
       "    <tr>\n",
       "      <th>114946</th>\n",
       "      <td>/organization/ãeron</td>\n",
       "      <td>/funding-round/59f4dce44723b794f21ded3daed6e4fe</td>\n",
       "      <td>venture</td>\n",
       "      <td>A</td>\n",
       "      <td>01-08-2014</td>\n",
       "      <td>NaN</td>\n",
       "    </tr>\n",
       "    <tr>\n",
       "      <th>114947</th>\n",
       "      <td>/ORGANIZATION/ÃASYS-2</td>\n",
       "      <td>/funding-round/35f09d0794651719b02bbfd859ba9ff5</td>\n",
       "      <td>seed</td>\n",
       "      <td>NaN</td>\n",
       "      <td>01-01-2015</td>\n",
       "      <td>18192.0</td>\n",
       "    </tr>\n",
       "    <tr>\n",
       "      <th>114948</th>\n",
       "      <td>/organization/ä°novatiff-reklam-ve-tanä±tä±m-h...</td>\n",
       "      <td>/funding-round/af942869878d2cd788ef5189b435ebc4</td>\n",
       "      <td>grant</td>\n",
       "      <td>NaN</td>\n",
       "      <td>01-10-2013</td>\n",
       "      <td>14851.0</td>\n",
       "    </tr>\n",
       "  </tbody>\n",
       "</table>\n",
       "<p>114949 rows × 6 columns</p>\n",
       "</div>"
      ],
      "text/plain": [
       "                                        company_permalink  \\\n",
       "0                                     /organization/-fame   \n",
       "1                                  /ORGANIZATION/-QOUNTER   \n",
       "2                                  /organization/-qounter   \n",
       "3                     /ORGANIZATION/-THE-ONE-OF-THEM-INC-   \n",
       "4                                   /organization/0-6-com   \n",
       "...                                                   ...   \n",
       "114944                          /organization/zzzzapp-com   \n",
       "114945                          /ORGANIZATION/ZZZZAPP-COM   \n",
       "114946                               /organization/ãeron   \n",
       "114947                             /ORGANIZATION/ÃASYS-2   \n",
       "114948  /organization/ä°novatiff-reklam-ve-tanä±tä±m-h...   \n",
       "\n",
       "                                funding_round_permalink funding_round_type  \\\n",
       "0       /funding-round/9a01d05418af9f794eebff7ace91f638            venture   \n",
       "1       /funding-round/22dacff496eb7acb2b901dec1dfe5633            venture   \n",
       "2       /funding-round/b44fbb94153f6cdef13083530bb48030               seed   \n",
       "3       /funding-round/650b8f704416801069bb178a1418776b            venture   \n",
       "4       /funding-round/5727accaeaa57461bd22a9bdd945382d            venture   \n",
       "...                                                 ...                ...   \n",
       "114944  /funding-round/8f6d25b8ee4199e586484d817bceda05   convertible_note   \n",
       "114945  /funding-round/ff1aa06ed5da186c84f101549035d4ae               seed   \n",
       "114946  /funding-round/59f4dce44723b794f21ded3daed6e4fe            venture   \n",
       "114947  /funding-round/35f09d0794651719b02bbfd859ba9ff5               seed   \n",
       "114948  /funding-round/af942869878d2cd788ef5189b435ebc4              grant   \n",
       "\n",
       "       funding_round_code   funded_at  raised_amount_usd  \n",
       "0                       B  05-01-2015         10000000.0  \n",
       "1                       A  14-10-2014                NaN  \n",
       "2                     NaN  01-03-2014           700000.0  \n",
       "3                       B  30-01-2014          3406878.0  \n",
       "4                       A  19-03-2008          2000000.0  \n",
       "...                   ...         ...                ...  \n",
       "114944                NaN  01-03-2014            41313.0  \n",
       "114945                NaN  01-05-2013            32842.0  \n",
       "114946                  A  01-08-2014                NaN  \n",
       "114947                NaN  01-01-2015            18192.0  \n",
       "114948                NaN  01-10-2013            14851.0  \n",
       "\n",
       "[114949 rows x 6 columns]"
      ]
     },
     "execution_count": 5,
     "metadata": {},
     "output_type": "execute_result"
    }
   ],
   "source": [
    "rounds2"
   ]
  },
  {
   "cell_type": "code",
   "execution_count": 6,
   "id": "4bd46a70",
   "metadata": {},
   "outputs": [
    {
     "name": "stdout",
     "output_type": "stream",
     "text": [
      "<class 'pandas.core.frame.DataFrame'>\n",
      "RangeIndex: 114949 entries, 0 to 114948\n",
      "Data columns (total 6 columns):\n",
      " #   Column                   Non-Null Count   Dtype  \n",
      "---  ------                   --------------   -----  \n",
      " 0   company_permalink        114949 non-null  object \n",
      " 1   funding_round_permalink  114949 non-null  object \n",
      " 2   funding_round_type       114949 non-null  object \n",
      " 3   funding_round_code       31140 non-null   object \n",
      " 4   funded_at                114949 non-null  object \n",
      " 5   raised_amount_usd        94959 non-null   float64\n",
      "dtypes: float64(1), object(5)\n",
      "memory usage: 5.3+ MB\n"
     ]
    }
   ],
   "source": [
    "rounds2.info()"
   ]
  },
  {
   "cell_type": "code",
   "execution_count": 7,
   "id": "8a135815",
   "metadata": {},
   "outputs": [
    {
     "data": {
      "text/plain": [
       "company_permalink           0.000000\n",
       "funding_round_permalink     0.000000\n",
       "funding_round_type          0.000000\n",
       "funding_round_code         72.909725\n",
       "funded_at                   0.000000\n",
       "raised_amount_usd          17.390321\n",
       "dtype: float64"
      ]
     },
     "execution_count": 7,
     "metadata": {},
     "output_type": "execute_result"
    }
   ],
   "source": [
    "100*rounds2.isnull().sum()/len(rounds2)"
   ]
  },
  {
   "cell_type": "markdown",
   "id": "e737f20f",
   "metadata": {},
   "source": [
    "Among all these columns in rounds2, we have few missing values in **funding_round_code** and **raised_amount_usd**. <br>\n",
    "\n",
    "We can drop these columns as it has **72% missing values**. We also don't need **funded_at** column. However, We will not be dropping any missing values from **raised_amount_usd** as it will remove companies' names which may be useful in further analysis."
   ]
  },
  {
   "cell_type": "code",
   "execution_count": 8,
   "id": "fccd580e",
   "metadata": {},
   "outputs": [],
   "source": [
    "rounds2.drop(['funding_round_code','funded_at'],axis=1,inplace=True)"
   ]
  },
  {
   "cell_type": "markdown",
   "id": "b1f4bdfe",
   "metadata": {},
   "source": [
    "We saw that there are few ID in **permalink columns** which are not properly encoded and companies data have same columns named as **permalink**. Let's fix this encoding and convert columns to lower case."
   ]
  },
  {
   "cell_type": "code",
   "execution_count": 9,
   "id": "145a660e",
   "metadata": {},
   "outputs": [],
   "source": [
    "rounds2['company_permalink']=rounds2['company_permalink'].str.encode('utf_8').str.decode('ascii', 'ignore').str.lower()"
   ]
  },
  {
   "cell_type": "code",
   "execution_count": 10,
   "id": "828ef5b2",
   "metadata": {},
   "outputs": [
    {
     "data": {
      "text/html": [
       "<div>\n",
       "<style scoped>\n",
       "    .dataframe tbody tr th:only-of-type {\n",
       "        vertical-align: middle;\n",
       "    }\n",
       "\n",
       "    .dataframe tbody tr th {\n",
       "        vertical-align: top;\n",
       "    }\n",
       "\n",
       "    .dataframe thead th {\n",
       "        text-align: right;\n",
       "    }\n",
       "</style>\n",
       "<table border=\"1\" class=\"dataframe\">\n",
       "  <thead>\n",
       "    <tr style=\"text-align: right;\">\n",
       "      <th></th>\n",
       "      <th>company_permalink</th>\n",
       "      <th>funding_round_permalink</th>\n",
       "      <th>funding_round_type</th>\n",
       "      <th>raised_amount_usd</th>\n",
       "    </tr>\n",
       "  </thead>\n",
       "  <tbody>\n",
       "    <tr>\n",
       "      <th>0</th>\n",
       "      <td>/organization/-fame</td>\n",
       "      <td>/funding-round/9a01d05418af9f794eebff7ace91f638</td>\n",
       "      <td>venture</td>\n",
       "      <td>10000000.0</td>\n",
       "    </tr>\n",
       "    <tr>\n",
       "      <th>1</th>\n",
       "      <td>/organization/-qounter</td>\n",
       "      <td>/funding-round/22dacff496eb7acb2b901dec1dfe5633</td>\n",
       "      <td>venture</td>\n",
       "      <td>NaN</td>\n",
       "    </tr>\n",
       "    <tr>\n",
       "      <th>2</th>\n",
       "      <td>/organization/-qounter</td>\n",
       "      <td>/funding-round/b44fbb94153f6cdef13083530bb48030</td>\n",
       "      <td>seed</td>\n",
       "      <td>700000.0</td>\n",
       "    </tr>\n",
       "    <tr>\n",
       "      <th>3</th>\n",
       "      <td>/organization/-the-one-of-them-inc-</td>\n",
       "      <td>/funding-round/650b8f704416801069bb178a1418776b</td>\n",
       "      <td>venture</td>\n",
       "      <td>3406878.0</td>\n",
       "    </tr>\n",
       "    <tr>\n",
       "      <th>4</th>\n",
       "      <td>/organization/0-6-com</td>\n",
       "      <td>/funding-round/5727accaeaa57461bd22a9bdd945382d</td>\n",
       "      <td>venture</td>\n",
       "      <td>2000000.0</td>\n",
       "    </tr>\n",
       "    <tr>\n",
       "      <th>...</th>\n",
       "      <td>...</td>\n",
       "      <td>...</td>\n",
       "      <td>...</td>\n",
       "      <td>...</td>\n",
       "    </tr>\n",
       "    <tr>\n",
       "      <th>114944</th>\n",
       "      <td>/organization/zzzzapp-com</td>\n",
       "      <td>/funding-round/8f6d25b8ee4199e586484d817bceda05</td>\n",
       "      <td>convertible_note</td>\n",
       "      <td>41313.0</td>\n",
       "    </tr>\n",
       "    <tr>\n",
       "      <th>114945</th>\n",
       "      <td>/organization/zzzzapp-com</td>\n",
       "      <td>/funding-round/ff1aa06ed5da186c84f101549035d4ae</td>\n",
       "      <td>seed</td>\n",
       "      <td>32842.0</td>\n",
       "    </tr>\n",
       "    <tr>\n",
       "      <th>114946</th>\n",
       "      <td>/organization/eron</td>\n",
       "      <td>/funding-round/59f4dce44723b794f21ded3daed6e4fe</td>\n",
       "      <td>venture</td>\n",
       "      <td>NaN</td>\n",
       "    </tr>\n",
       "    <tr>\n",
       "      <th>114947</th>\n",
       "      <td>/organization/asys-2</td>\n",
       "      <td>/funding-round/35f09d0794651719b02bbfd859ba9ff5</td>\n",
       "      <td>seed</td>\n",
       "      <td>18192.0</td>\n",
       "    </tr>\n",
       "    <tr>\n",
       "      <th>114948</th>\n",
       "      <td>/organization/novatiff-reklam-ve-tantm-hizmetl...</td>\n",
       "      <td>/funding-round/af942869878d2cd788ef5189b435ebc4</td>\n",
       "      <td>grant</td>\n",
       "      <td>14851.0</td>\n",
       "    </tr>\n",
       "  </tbody>\n",
       "</table>\n",
       "<p>114949 rows × 4 columns</p>\n",
       "</div>"
      ],
      "text/plain": [
       "                                        company_permalink  \\\n",
       "0                                     /organization/-fame   \n",
       "1                                  /organization/-qounter   \n",
       "2                                  /organization/-qounter   \n",
       "3                     /organization/-the-one-of-them-inc-   \n",
       "4                                   /organization/0-6-com   \n",
       "...                                                   ...   \n",
       "114944                          /organization/zzzzapp-com   \n",
       "114945                          /organization/zzzzapp-com   \n",
       "114946                                 /organization/eron   \n",
       "114947                               /organization/asys-2   \n",
       "114948  /organization/novatiff-reklam-ve-tantm-hizmetl...   \n",
       "\n",
       "                                funding_round_permalink funding_round_type  \\\n",
       "0       /funding-round/9a01d05418af9f794eebff7ace91f638            venture   \n",
       "1       /funding-round/22dacff496eb7acb2b901dec1dfe5633            venture   \n",
       "2       /funding-round/b44fbb94153f6cdef13083530bb48030               seed   \n",
       "3       /funding-round/650b8f704416801069bb178a1418776b            venture   \n",
       "4       /funding-round/5727accaeaa57461bd22a9bdd945382d            venture   \n",
       "...                                                 ...                ...   \n",
       "114944  /funding-round/8f6d25b8ee4199e586484d817bceda05   convertible_note   \n",
       "114945  /funding-round/ff1aa06ed5da186c84f101549035d4ae               seed   \n",
       "114946  /funding-round/59f4dce44723b794f21ded3daed6e4fe            venture   \n",
       "114947  /funding-round/35f09d0794651719b02bbfd859ba9ff5               seed   \n",
       "114948  /funding-round/af942869878d2cd788ef5189b435ebc4              grant   \n",
       "\n",
       "        raised_amount_usd  \n",
       "0              10000000.0  \n",
       "1                     NaN  \n",
       "2                700000.0  \n",
       "3               3406878.0  \n",
       "4               2000000.0  \n",
       "...                   ...  \n",
       "114944            41313.0  \n",
       "114945            32842.0  \n",
       "114946                NaN  \n",
       "114947            18192.0  \n",
       "114948            14851.0  \n",
       "\n",
       "[114949 rows x 4 columns]"
      ]
     },
     "execution_count": 10,
     "metadata": {},
     "output_type": "execute_result"
    }
   ],
   "source": [
    "rounds2"
   ]
  },
  {
   "cell_type": "code",
   "execution_count": 11,
   "id": "173b1ebb",
   "metadata": {},
   "outputs": [
    {
     "data": {
      "text/plain": [
       "<AxesSubplot:>"
      ]
     },
     "execution_count": 11,
     "metadata": {},
     "output_type": "execute_result"
    },
    {
     "data": {
      "image/png": "[encoded data removed]",
      "text/plain": [
       "<Figure size 432x288 with 1 Axes>"
      ]
     },
     "metadata": {
      "needs_background": "light"
     },
     "output_type": "display_data"
    }
   ],
   "source": [
    "#Plotting Box plot to understand overall Raised amount\n",
    "\n",
    "rounds2['raised_amount_usd'].plot.box()"
   ]
  },
  {
   "cell_type": "code",
   "execution_count": 12,
   "id": "aec29669",
   "metadata": {},
   "outputs": [
    {
     "data": {
      "text/plain": [
       "count        0.094959\n",
       "mean        10.426869\n",
       "std        114.821248\n",
       "min          0.000000\n",
       "25%          0.322500\n",
       "50%          1.680511\n",
       "75%          7.000000\n",
       "max      21271.935000\n",
       "Name: raised_amount_usd, dtype: float64"
      ]
     },
     "execution_count": 12,
     "metadata": {},
     "output_type": "execute_result"
    }
   ],
   "source": [
    "#Above graph does not tell much about Raised Amount hence we will describe this instead with numbers.\n",
    "#Dividing it by 1,000,000 for better readability\n",
    "\n",
    "rounds2['raised_amount_usd'].describe()/1000000 "
   ]
  },
  {
   "cell_type": "markdown",
   "id": "d7808fb7",
   "metadata": {},
   "source": [
    "### This shows that almost 75% of the funding has been done below 7 million."
   ]
  },
  {
   "cell_type": "code",
   "execution_count": 13,
   "id": "78737b84",
   "metadata": {},
   "outputs": [
    {
     "name": "stdout",
     "output_type": "stream",
     "text": [
      "Companies : (66368, 10)\n",
      "Rounds2 : (114949, 4)\n"
     ]
    }
   ],
   "source": [
    "#Checking shape of companies and rounds2 dataframes\n",
    "\n",
    "print('Companies :',companies.shape)\n",
    "print('Rounds2 :',rounds2.shape)"
   ]
  },
  {
   "cell_type": "markdown",
   "id": "ae3db889",
   "metadata": {},
   "source": [
    "#### Understanding  **companies** and perform cleaning."
   ]
  },
  {
   "cell_type": "code",
   "execution_count": 14,
   "id": "b59cb269",
   "metadata": {},
   "outputs": [
    {
     "data": {
      "text/html": [
       "<div>\n",
       "<style scoped>\n",
       "    .dataframe tbody tr th:only-of-type {\n",
       "        vertical-align: middle;\n",
       "    }\n",
       "\n",
       "    .dataframe tbody tr th {\n",
       "        vertical-align: top;\n",
       "    }\n",
       "\n",
       "    .dataframe thead th {\n",
       "        text-align: right;\n",
       "    }\n",
       "</style>\n",
       "<table border=\"1\" class=\"dataframe\">\n",
       "  <thead>\n",
       "    <tr style=\"text-align: right;\">\n",
       "      <th></th>\n",
       "      <th>permalink</th>\n",
       "      <th>name</th>\n",
       "      <th>homepage_url</th>\n",
       "      <th>category_list</th>\n",
       "      <th>status</th>\n",
       "      <th>country_code</th>\n",
       "      <th>state_code</th>\n",
       "      <th>region</th>\n",
       "      <th>city</th>\n",
       "      <th>founded_at</th>\n",
       "    </tr>\n",
       "  </thead>\n",
       "  <tbody>\n",
       "    <tr>\n",
       "      <th>0</th>\n",
       "      <td>/Organization/-Fame</td>\n",
       "      <td>#fame</td>\n",
       "      <td>http://livfame.com</td>\n",
       "      <td>Media</td>\n",
       "      <td>operating</td>\n",
       "      <td>IND</td>\n",
       "      <td>16</td>\n",
       "      <td>Mumbai</td>\n",
       "      <td>Mumbai</td>\n",
       "      <td>NaN</td>\n",
       "    </tr>\n",
       "    <tr>\n",
       "      <th>1</th>\n",
       "      <td>/Organization/-Qounter</td>\n",
       "      <td>:Qounter</td>\n",
       "      <td>http://www.qounter.com</td>\n",
       "      <td>Application Platforms|Real Time|Social Network...</td>\n",
       "      <td>operating</td>\n",
       "      <td>USA</td>\n",
       "      <td>DE</td>\n",
       "      <td>DE - Other</td>\n",
       "      <td>Delaware City</td>\n",
       "      <td>04-09-2014</td>\n",
       "    </tr>\n",
       "    <tr>\n",
       "      <th>2</th>\n",
       "      <td>/Organization/-The-One-Of-Them-Inc-</td>\n",
       "      <td>(THE) ONE of THEM,Inc.</td>\n",
       "      <td>http://oneofthem.jp</td>\n",
       "      <td>Apps|Games|Mobile</td>\n",
       "      <td>operating</td>\n",
       "      <td>NaN</td>\n",
       "      <td>NaN</td>\n",
       "      <td>NaN</td>\n",
       "      <td>NaN</td>\n",
       "      <td>NaN</td>\n",
       "    </tr>\n",
       "    <tr>\n",
       "      <th>3</th>\n",
       "      <td>/Organization/0-6-Com</td>\n",
       "      <td>0-6.com</td>\n",
       "      <td>http://www.0-6.com</td>\n",
       "      <td>Curated Web</td>\n",
       "      <td>operating</td>\n",
       "      <td>CHN</td>\n",
       "      <td>22</td>\n",
       "      <td>Beijing</td>\n",
       "      <td>Beijing</td>\n",
       "      <td>01-01-2007</td>\n",
       "    </tr>\n",
       "    <tr>\n",
       "      <th>4</th>\n",
       "      <td>/Organization/004-Technologies</td>\n",
       "      <td>004 Technologies</td>\n",
       "      <td>http://004gmbh.de/en/004-interact</td>\n",
       "      <td>Software</td>\n",
       "      <td>operating</td>\n",
       "      <td>USA</td>\n",
       "      <td>IL</td>\n",
       "      <td>Springfield, Illinois</td>\n",
       "      <td>Champaign</td>\n",
       "      <td>01-01-2010</td>\n",
       "    </tr>\n",
       "  </tbody>\n",
       "</table>\n",
       "</div>"
      ],
      "text/plain": [
       "                             permalink                    name  \\\n",
       "0                  /Organization/-Fame                   #fame   \n",
       "1               /Organization/-Qounter                :Qounter   \n",
       "2  /Organization/-The-One-Of-Them-Inc-  (THE) ONE of THEM,Inc.   \n",
       "3                /Organization/0-6-Com                 0-6.com   \n",
       "4       /Organization/004-Technologies        004 Technologies   \n",
       "\n",
       "                        homepage_url  \\\n",
       "0                 http://livfame.com   \n",
       "1             http://www.qounter.com   \n",
       "2                http://oneofthem.jp   \n",
       "3                 http://www.0-6.com   \n",
       "4  http://004gmbh.de/en/004-interact   \n",
       "\n",
       "                                       category_list     status country_code  \\\n",
       "0                                              Media  operating          IND   \n",
       "1  Application Platforms|Real Time|Social Network...  operating          USA   \n",
       "2                                  Apps|Games|Mobile  operating          NaN   \n",
       "3                                        Curated Web  operating          CHN   \n",
       "4                                           Software  operating          USA   \n",
       "\n",
       "  state_code                 region           city  founded_at  \n",
       "0         16                 Mumbai         Mumbai         NaN  \n",
       "1         DE             DE - Other  Delaware City  04-09-2014  \n",
       "2        NaN                    NaN            NaN         NaN  \n",
       "3         22                Beijing        Beijing  01-01-2007  \n",
       "4         IL  Springfield, Illinois      Champaign  01-01-2010  "
      ]
     },
     "execution_count": 14,
     "metadata": {},
     "output_type": "execute_result"
    }
   ],
   "source": [
    "companies.head()"
   ]
  },
  {
   "cell_type": "code",
   "execution_count": 15,
   "id": "f976f943",
   "metadata": {},
   "outputs": [
    {
     "name": "stdout",
     "output_type": "stream",
     "text": [
      "<class 'pandas.core.frame.DataFrame'>\n",
      "RangeIndex: 66368 entries, 0 to 66367\n",
      "Data columns (total 10 columns):\n",
      " #   Column         Non-Null Count  Dtype \n",
      "---  ------         --------------  ----- \n",
      " 0   permalink      66368 non-null  object\n",
      " 1   name           66367 non-null  object\n",
      " 2   homepage_url   61310 non-null  object\n",
      " 3   category_list  63220 non-null  object\n",
      " 4   status         66368 non-null  object\n",
      " 5   country_code   59410 non-null  object\n",
      " 6   state_code     57821 non-null  object\n",
      " 7   region         58338 non-null  object\n",
      " 8   city           58340 non-null  object\n",
      " 9   founded_at     51147 non-null  object\n",
      "dtypes: object(10)\n",
      "memory usage: 5.1+ MB\n"
     ]
    }
   ],
   "source": [
    "companies.info()"
   ]
  },
  {
   "cell_type": "markdown",
   "id": "d2138652",
   "metadata": {},
   "source": [
    "As our analysis more related to **raised amount, country and category_list**, we can drop **state_code, city, status and region**"
   ]
  },
  {
   "cell_type": "code",
   "execution_count": 16,
   "id": "149abca0",
   "metadata": {},
   "outputs": [],
   "source": [
    "companies=companies.drop(['status','state_code','region','city'],axis=1)"
   ]
  },
  {
   "cell_type": "code",
   "execution_count": 17,
   "id": "6c2cabb1",
   "metadata": {},
   "outputs": [
    {
     "data": {
      "text/plain": [
       "permalink         0.000000\n",
       "name              0.001507\n",
       "homepage_url      7.621143\n",
       "category_list     4.743250\n",
       "country_code     10.483968\n",
       "founded_at       22.934245\n",
       "dtype: float64"
      ]
     },
     "execution_count": 17,
     "metadata": {},
     "output_type": "execute_result"
    }
   ],
   "source": [
    "#Checking Missing Values in %\n",
    "#We will do some analysis with founded_at columns then we will drop this columns.\n",
    "\n",
    "companies.isnull().sum()/len(companies)*100"
   ]
  },
  {
   "cell_type": "code",
   "execution_count": 18,
   "id": "faed7cad",
   "metadata": {},
   "outputs": [],
   "source": [
    "#We have the same encoding issue for permalink and name columns in companies. \n",
    "#Also, we will be lowering the case in permalink to avoid any weird result while performing merge on these two data frames.\n",
    "\n",
    "companies['permalink'] = companies['permalink'].str.encode('utf-8').str.decode('ascii', 'ignore').str.lower()\n",
    "companies['name'] = companies['name'].str.encode('utf-8').str.decode('ascii', 'ignore')"
   ]
  },
  {
   "cell_type": "code",
   "execution_count": 19,
   "id": "5b2c2dbb",
   "metadata": {},
   "outputs": [
    {
     "data": {
      "text/html": [
       "<div>\n",
       "<style scoped>\n",
       "    .dataframe tbody tr th:only-of-type {\n",
       "        vertical-align: middle;\n",
       "    }\n",
       "\n",
       "    .dataframe tbody tr th {\n",
       "        vertical-align: top;\n",
       "    }\n",
       "\n",
       "    .dataframe thead th {\n",
       "        text-align: right;\n",
       "    }\n",
       "</style>\n",
       "<table border=\"1\" class=\"dataframe\">\n",
       "  <thead>\n",
       "    <tr style=\"text-align: right;\">\n",
       "      <th></th>\n",
       "      <th>permalink</th>\n",
       "      <th>name</th>\n",
       "      <th>homepage_url</th>\n",
       "      <th>category_list</th>\n",
       "      <th>country_code</th>\n",
       "      <th>founded_at</th>\n",
       "    </tr>\n",
       "  </thead>\n",
       "  <tbody>\n",
       "    <tr>\n",
       "      <th>56916</th>\n",
       "      <td>/organization/tell-it-in</td>\n",
       "      <td>NaN</td>\n",
       "      <td>http://tellitin10.com</td>\n",
       "      <td>Startups</td>\n",
       "      <td>USA</td>\n",
       "      <td>01-10-2011</td>\n",
       "    </tr>\n",
       "  </tbody>\n",
       "</table>\n",
       "</div>"
      ],
      "text/plain": [
       "                      permalink name           homepage_url category_list  \\\n",
       "56916  /organization/tell-it-in  NaN  http://tellitin10.com      Startups   \n",
       "\n",
       "      country_code  founded_at  \n",
       "56916          USA  01-10-2011  "
      ]
     },
     "execution_count": 19,
     "metadata": {},
     "output_type": "execute_result"
    }
   ],
   "source": [
    "#There is one company name missing in name columns we can fill it from reference of permalink\n",
    "#We will do it in an automated way even we have only one name missing\n",
    "companies[companies['name'].isnull()]"
   ]
  },
  {
   "cell_type": "code",
   "execution_count": 20,
   "id": "abdfb4b7",
   "metadata": {
    "scrolled": true
   },
   "outputs": [],
   "source": [
    "companies['name']=companies['name'].fillna(companies['permalink'].str.split('/',expand=True)[2])"
   ]
  },
  {
   "cell_type": "code",
   "execution_count": 21,
   "id": "283e06a8",
   "metadata": {},
   "outputs": [],
   "source": [
    "#Analysis based on founded_at columns\n",
    "\n",
    "companies['founded_at']=pd.to_datetime(companies['founded_at'],errors = 'coerce')"
   ]
  },
  {
   "cell_type": "code",
   "execution_count": 22,
   "id": "fd2215db",
   "metadata": {},
   "outputs": [
    {
     "data": {
      "text/plain": [
       "<AxesSubplot:>"
      ]
     },
     "execution_count": 22,
     "metadata": {},
     "output_type": "execute_result"
    },
    {
     "data": {
      "image/png": "[encoded data removed]",
      "text/plain": [
       "<Figure size 1080x360 with 1 Axes>"
      ]
     },
     "metadata": {
      "needs_background": "light"
     },
     "output_type": "display_data"
    }
   ],
   "source": [
    "#No. of Companies founded in particluar year\n",
    "\n",
    "plt.figure(figsize=(15,5))\n",
    "companies['founded_at'].dt.year.astype('Int64').value_counts().head(50).plot(kind='bar')"
   ]
  },
  {
   "cell_type": "code",
   "execution_count": 23,
   "id": "b9196326",
   "metadata": {},
   "outputs": [
    {
     "data": {
      "text/plain": [
       "<AxesSubplot:>"
      ]
     },
     "execution_count": 23,
     "metadata": {},
     "output_type": "execute_result"
    },
    {
     "data": {
      "image/png": "[encoded data removed]",
      "text/plain": [
       "<Figure size 1152x360 with 1 Axes>"
      ]
     },
     "metadata": {
      "needs_background": "light"
     },
     "output_type": "display_data"
    }
   ],
   "source": [
    "#No. of Companies founded in particluar month\n",
    "\n",
    "plt.figure(figsize=(16,5))\n",
    "companies['founded_at'].dt.month.astype('Int64').value_counts().head(50).plot(kind='bar')"
   ]
  },
  {
   "cell_type": "code",
   "execution_count": 24,
   "id": "1aea8d52",
   "metadata": {},
   "outputs": [
    {
     "data": {
      "text/plain": [
       "<AxesSubplot:>"
      ]
     },
     "execution_count": 24,
     "metadata": {},
     "output_type": "execute_result"
    },
    {
     "data": {
      "image/png": "[encoded data removed]",
      "text/plain": [
       "<Figure size 1152x360 with 1 Axes>"
      ]
     },
     "metadata": {
      "needs_background": "light"
     },
     "output_type": "display_data"
    }
   ],
   "source": [
    "#No. of Companies founded in particluar day of the month\n",
    "\n",
    "plt.figure(figsize=(16,5))\n",
    "companies['founded_at'].dt.day.astype('Int64').value_counts().head(50).plot(kind='bar')"
   ]
  },
  {
   "cell_type": "markdown",
   "id": "c7be6d55",
   "metadata": {},
   "source": [
    "**Looking at above graphs, Many companies has been founded between 1999 to 2014.** <br>\n",
    "\n",
    "\n",
    "**Majority of companies foundation date is 1st of Jan!**"
   ]
  },
  {
   "cell_type": "code",
   "execution_count": 25,
   "id": "703d41c0",
   "metadata": {},
   "outputs": [],
   "source": [
    "# We can now drop 'founded at' columns \n",
    "\n",
    "companies=companies.drop(['founded_at'],axis=1)"
   ]
  },
  {
   "cell_type": "code",
   "execution_count": 26,
   "id": "bbef6f8b",
   "metadata": {},
   "outputs": [
    {
     "name": "stdout",
     "output_type": "stream",
     "text": [
      "No. of unique companies in rounds2 66368.\n"
     ]
    }
   ],
   "source": [
    "#Finding out Unique companies in rounds2\n",
    "\n",
    "print(f\"No. of unique companies in rounds2 {rounds2['company_permalink'].nunique()}.\")"
   ]
  },
  {
   "cell_type": "code",
   "execution_count": 27,
   "id": "8b4b5ef8",
   "metadata": {
    "scrolled": true
   },
   "outputs": [
    {
     "name": "stdout",
     "output_type": "stream",
     "text": [
      "No. of unique companies in companies 66368.\n"
     ]
    }
   ],
   "source": [
    "#Finding out Unique companies in Companies\n",
    "\n",
    "print(f\"No. of unique companies in companies {companies['permalink'].nunique()}.\")"
   ]
  },
  {
   "cell_type": "code",
   "execution_count": 28,
   "id": "13339788",
   "metadata": {},
   "outputs": [
    {
     "data": {
      "text/plain": [
       "both          114949\n",
       "left_only          0\n",
       "right_only         0\n",
       "Name: Exist, dtype: int64"
      ]
     },
     "execution_count": 28,
     "metadata": {},
     "output_type": "execute_result"
    }
   ],
   "source": [
    "#Checking if there is any companies in the rounds2 which are not present in companies\n",
    "#We can also use set operations | easy understanding \n",
    "\n",
    "rounds2.merge(companies,how='left',left_on='company_permalink',right_on='permalink',\n",
    "              indicator='Exist')['Exist'].value_counts()"
   ]
  },
  {
   "cell_type": "markdown",
   "id": "e3234004",
   "metadata": {},
   "source": [
    "##### There are no companies as such who are only in rounds2 but in companies."
   ]
  },
  {
   "cell_type": "markdown",
   "id": "0522efea",
   "metadata": {},
   "source": [
    "## Let's merge these two dataframes into **master_frame**."
   ]
  },
  {
   "cell_type": "markdown",
   "id": "79825965",
   "metadata": {},
   "source": [
    "Merging the two data frames so that all variables (columns) in the companies frame are added to the rounds2 data frame. Naming the merged frame master_frame."
   ]
  },
  {
   "cell_type": "code",
   "execution_count": 29,
   "id": "ae89f296",
   "metadata": {},
   "outputs": [],
   "source": [
    "master_frame=rounds2.merge(companies,how='left',left_on='company_permalink',right_on='permalink')"
   ]
  },
  {
   "cell_type": "code",
   "execution_count": 30,
   "id": "66e22e70",
   "metadata": {},
   "outputs": [
    {
     "data": {
      "text/plain": [
       "(114949, 9)"
      ]
     },
     "execution_count": 30,
     "metadata": {},
     "output_type": "execute_result"
    }
   ],
   "source": [
    "#Checking the shape of master_frame\n",
    "\n",
    "master_frame.shape"
   ]
  },
  {
   "cell_type": "code",
   "execution_count": 31,
   "id": "955ddb1a",
   "metadata": {},
   "outputs": [],
   "source": [
    "# Compnay_permalink and permalink columns are redundant so we will remove one of them.\n",
    "\n",
    "master_frame=master_frame.drop('permalink',axis=1)"
   ]
  },
  {
   "cell_type": "markdown",
   "id": "ff6f437b",
   "metadata": {},
   "source": [
    "---------"
   ]
  },
  {
   "cell_type": "markdown",
   "id": "81ad8a3c",
   "metadata": {},
   "source": [
    "# Funding Type Analysis"
   ]
  },
  {
   "cell_type": "code",
   "execution_count": 32,
   "id": "6b6f0272",
   "metadata": {
    "scrolled": true
   },
   "outputs": [
    {
     "data": {
      "text/html": [
       "<div>\n",
       "<style scoped>\n",
       "    .dataframe tbody tr th:only-of-type {\n",
       "        vertical-align: middle;\n",
       "    }\n",
       "\n",
       "    .dataframe tbody tr th {\n",
       "        vertical-align: top;\n",
       "    }\n",
       "\n",
       "    .dataframe thead th {\n",
       "        text-align: right;\n",
       "    }\n",
       "</style>\n",
       "<table border=\"1\" class=\"dataframe\">\n",
       "  <thead>\n",
       "    <tr style=\"text-align: right;\">\n",
       "      <th></th>\n",
       "      <th>company_permalink</th>\n",
       "      <th>funding_round_permalink</th>\n",
       "      <th>funding_round_type</th>\n",
       "      <th>raised_amount_usd</th>\n",
       "      <th>name</th>\n",
       "      <th>homepage_url</th>\n",
       "      <th>category_list</th>\n",
       "      <th>country_code</th>\n",
       "    </tr>\n",
       "  </thead>\n",
       "  <tbody>\n",
       "    <tr>\n",
       "      <th>0</th>\n",
       "      <td>/organization/-fame</td>\n",
       "      <td>/funding-round/9a01d05418af9f794eebff7ace91f638</td>\n",
       "      <td>venture</td>\n",
       "      <td>10000000.0</td>\n",
       "      <td>#fame</td>\n",
       "      <td>http://livfame.com</td>\n",
       "      <td>Media</td>\n",
       "      <td>IND</td>\n",
       "    </tr>\n",
       "    <tr>\n",
       "      <th>1</th>\n",
       "      <td>/organization/-qounter</td>\n",
       "      <td>/funding-round/22dacff496eb7acb2b901dec1dfe5633</td>\n",
       "      <td>venture</td>\n",
       "      <td>NaN</td>\n",
       "      <td>:Qounter</td>\n",
       "      <td>http://www.qounter.com</td>\n",
       "      <td>Application Platforms|Real Time|Social Network...</td>\n",
       "      <td>USA</td>\n",
       "    </tr>\n",
       "    <tr>\n",
       "      <th>2</th>\n",
       "      <td>/organization/-qounter</td>\n",
       "      <td>/funding-round/b44fbb94153f6cdef13083530bb48030</td>\n",
       "      <td>seed</td>\n",
       "      <td>700000.0</td>\n",
       "      <td>:Qounter</td>\n",
       "      <td>http://www.qounter.com</td>\n",
       "      <td>Application Platforms|Real Time|Social Network...</td>\n",
       "      <td>USA</td>\n",
       "    </tr>\n",
       "    <tr>\n",
       "      <th>3</th>\n",
       "      <td>/organization/-the-one-of-them-inc-</td>\n",
       "      <td>/funding-round/650b8f704416801069bb178a1418776b</td>\n",
       "      <td>venture</td>\n",
       "      <td>3406878.0</td>\n",
       "      <td>(THE) ONE of THEM,Inc.</td>\n",
       "      <td>http://oneofthem.jp</td>\n",
       "      <td>Apps|Games|Mobile</td>\n",
       "      <td>NaN</td>\n",
       "    </tr>\n",
       "    <tr>\n",
       "      <th>4</th>\n",
       "      <td>/organization/0-6-com</td>\n",
       "      <td>/funding-round/5727accaeaa57461bd22a9bdd945382d</td>\n",
       "      <td>venture</td>\n",
       "      <td>2000000.0</td>\n",
       "      <td>0-6.com</td>\n",
       "      <td>http://www.0-6.com</td>\n",
       "      <td>Curated Web</td>\n",
       "      <td>CHN</td>\n",
       "    </tr>\n",
       "  </tbody>\n",
       "</table>\n",
       "</div>"
      ],
      "text/plain": [
       "                     company_permalink  \\\n",
       "0                  /organization/-fame   \n",
       "1               /organization/-qounter   \n",
       "2               /organization/-qounter   \n",
       "3  /organization/-the-one-of-them-inc-   \n",
       "4                /organization/0-6-com   \n",
       "\n",
       "                           funding_round_permalink funding_round_type  \\\n",
       "0  /funding-round/9a01d05418af9f794eebff7ace91f638            venture   \n",
       "1  /funding-round/22dacff496eb7acb2b901dec1dfe5633            venture   \n",
       "2  /funding-round/b44fbb94153f6cdef13083530bb48030               seed   \n",
       "3  /funding-round/650b8f704416801069bb178a1418776b            venture   \n",
       "4  /funding-round/5727accaeaa57461bd22a9bdd945382d            venture   \n",
       "\n",
       "   raised_amount_usd                    name            homepage_url  \\\n",
       "0         10000000.0                   #fame      http://livfame.com   \n",
       "1                NaN                :Qounter  http://www.qounter.com   \n",
       "2           700000.0                :Qounter  http://www.qounter.com   \n",
       "3          3406878.0  (THE) ONE of THEM,Inc.     http://oneofthem.jp   \n",
       "4          2000000.0                 0-6.com      http://www.0-6.com   \n",
       "\n",
       "                                       category_list country_code  \n",
       "0                                              Media          IND  \n",
       "1  Application Platforms|Real Time|Social Network...          USA  \n",
       "2  Application Platforms|Real Time|Social Network...          USA  \n",
       "3                                  Apps|Games|Mobile          NaN  \n",
       "4                                        Curated Web          CHN  "
      ]
     },
     "execution_count": 32,
     "metadata": {},
     "output_type": "execute_result"
    }
   ],
   "source": [
    "master_frame.head()"
   ]
  },
  {
   "cell_type": "code",
   "execution_count": 33,
   "id": "51270637",
   "metadata": {},
   "outputs": [
    {
     "data": {
      "text/html": [
       "<style  type=\"text/css\" >\n",
       "#T_99f7a_row0_col0{\n",
       "            background-color:  #f1ebf4;\n",
       "            color:  #000000;\n",
       "        }#T_99f7a_row0_col1,#T_99f7a_row0_col3,#T_99f7a_row1_col3,#T_99f7a_row2_col3,#T_99f7a_row3_col1,#T_99f7a_row3_col2,#T_99f7a_row3_col3,#T_99f7a_row3_col4,#T_99f7a_row3_col5,#T_99f7a_row3_col6,#T_99f7a_row3_col7,#T_99f7a_row4_col3,#T_99f7a_row5_col0,#T_99f7a_row5_col1,#T_99f7a_row5_col2,#T_99f7a_row5_col3,#T_99f7a_row5_col4,#T_99f7a_row5_col5,#T_99f7a_row5_col6,#T_99f7a_row5_col7,#T_99f7a_row6_col0,#T_99f7a_row7_col3,#T_99f7a_row8_col3,#T_99f7a_row9_col3,#T_99f7a_row9_col5,#T_99f7a_row9_col7,#T_99f7a_row10_col0,#T_99f7a_row11_col1,#T_99f7a_row11_col2,#T_99f7a_row11_col3,#T_99f7a_row12_col3,#T_99f7a_row13_col3{\n",
       "            background-color:  #fff7fb;\n",
       "            color:  #000000;\n",
       "        }#T_99f7a_row0_col2,#T_99f7a_row0_col5,#T_99f7a_row0_col6,#T_99f7a_row1_col2,#T_99f7a_row1_col6,#T_99f7a_row1_col7,#T_99f7a_row4_col4,#T_99f7a_row11_col4,#T_99f7a_row11_col6,#T_99f7a_row11_col7{\n",
       "            background-color:  #fef6fa;\n",
       "            color:  #000000;\n",
       "        }#T_99f7a_row0_col4,#T_99f7a_row1_col0,#T_99f7a_row12_col0,#T_99f7a_row12_col5{\n",
       "            background-color:  #fbf3f9;\n",
       "            color:  #000000;\n",
       "        }#T_99f7a_row0_col7,#T_99f7a_row4_col1{\n",
       "            background-color:  #fcf4fa;\n",
       "            color:  #000000;\n",
       "        }#T_99f7a_row1_col1,#T_99f7a_row1_col5,#T_99f7a_row4_col5,#T_99f7a_row9_col0,#T_99f7a_row9_col1,#T_99f7a_row9_col2,#T_99f7a_row9_col4,#T_99f7a_row9_col6,#T_99f7a_row11_col5{\n",
       "            background-color:  #fef6fb;\n",
       "            color:  #000000;\n",
       "        }#T_99f7a_row1_col4,#T_99f7a_row4_col6,#T_99f7a_row7_col0{\n",
       "            background-color:  #fdf5fa;\n",
       "            color:  #000000;\n",
       "        }#T_99f7a_row2_col0{\n",
       "            background-color:  #ebe6f2;\n",
       "            color:  #000000;\n",
       "        }#T_99f7a_row2_col1{\n",
       "            background-color:  #f0eaf4;\n",
       "            color:  #000000;\n",
       "        }#T_99f7a_row2_col2{\n",
       "            background-color:  #83afd3;\n",
       "            color:  #000000;\n",
       "        }#T_99f7a_row2_col4{\n",
       "            background-color:  #f5eff6;\n",
       "            color:  #000000;\n",
       "        }#T_99f7a_row2_col5,#T_99f7a_row4_col7,#T_99f7a_row10_col3,#T_99f7a_row10_col7{\n",
       "            background-color:  #faf3f9;\n",
       "            color:  #000000;\n",
       "        }#T_99f7a_row2_col6{\n",
       "            background-color:  #f8f1f8;\n",
       "            color:  #000000;\n",
       "        }#T_99f7a_row2_col7,#T_99f7a_row6_col1,#T_99f7a_row6_col2,#T_99f7a_row6_col3,#T_99f7a_row10_col4,#T_99f7a_row10_col5,#T_99f7a_row10_col6,#T_99f7a_row13_col0{\n",
       "            background-color:  #023858;\n",
       "            color:  #f1f1f1;\n",
       "        }#T_99f7a_row3_col0{\n",
       "            background-color:  #fbf4f9;\n",
       "            color:  #000000;\n",
       "        }#T_99f7a_row4_col0,#T_99f7a_row4_col2,#T_99f7a_row12_col4{\n",
       "            background-color:  #f9f2f8;\n",
       "            color:  #000000;\n",
       "        }#T_99f7a_row6_col4{\n",
       "            background-color:  #0568a3;\n",
       "            color:  #f1f1f1;\n",
       "        }#T_99f7a_row6_col5,#T_99f7a_row8_col5{\n",
       "            background-color:  #3d93c2;\n",
       "            color:  #000000;\n",
       "        }#T_99f7a_row6_col6{\n",
       "            background-color:  #157ab5;\n",
       "            color:  #000000;\n",
       "        }#T_99f7a_row6_col7{\n",
       "            background-color:  #c9cee4;\n",
       "            color:  #000000;\n",
       "        }#T_99f7a_row7_col1{\n",
       "            background-color:  #79abd0;\n",
       "            color:  #000000;\n",
       "        }#T_99f7a_row7_col2{\n",
       "            background-color:  #056ba7;\n",
       "            color:  #f1f1f1;\n",
       "        }#T_99f7a_row7_col4{\n",
       "            background-color:  #0570b0;\n",
       "            color:  #f1f1f1;\n",
       "        }#T_99f7a_row7_col5{\n",
       "            background-color:  #a5bddb;\n",
       "            color:  #000000;\n",
       "        }#T_99f7a_row7_col6{\n",
       "            background-color:  #7eadd1;\n",
       "            color:  #000000;\n",
       "        }#T_99f7a_row7_col7{\n",
       "            background-color:  #73a9cf;\n",
       "            color:  #000000;\n",
       "        }#T_99f7a_row8_col0{\n",
       "            background-color:  #faf2f8;\n",
       "            color:  #000000;\n",
       "        }#T_99f7a_row8_col1{\n",
       "            background-color:  #8fb4d6;\n",
       "            color:  #000000;\n",
       "        }#T_99f7a_row8_col2{\n",
       "            background-color:  #b7c5df;\n",
       "            color:  #000000;\n",
       "        }#T_99f7a_row8_col4{\n",
       "            background-color:  #02395a;\n",
       "            color:  #f1f1f1;\n",
       "        }#T_99f7a_row8_col6{\n",
       "            background-color:  #045687;\n",
       "            color:  #f1f1f1;\n",
       "        }#T_99f7a_row8_col7{\n",
       "            background-color:  #d7d6e9;\n",
       "            color:  #000000;\n",
       "        }#T_99f7a_row10_col1,#T_99f7a_row11_col0{\n",
       "            background-color:  #80aed2;\n",
       "            color:  #000000;\n",
       "        }#T_99f7a_row10_col2{\n",
       "            background-color:  #d5d5e8;\n",
       "            color:  #000000;\n",
       "        }#T_99f7a_row12_col1{\n",
       "            background-color:  #eee9f3;\n",
       "            color:  #000000;\n",
       "        }#T_99f7a_row12_col2{\n",
       "            background-color:  #b5c4df;\n",
       "            color:  #000000;\n",
       "        }#T_99f7a_row12_col6{\n",
       "            background-color:  #f7f0f7;\n",
       "            color:  #000000;\n",
       "        }#T_99f7a_row12_col7{\n",
       "            background-color:  #d3d4e7;\n",
       "            color:  #000000;\n",
       "        }#T_99f7a_row13_col1{\n",
       "            background-color:  #f5eef6;\n",
       "            color:  #000000;\n",
       "        }#T_99f7a_row13_col2,#T_99f7a_row13_col6{\n",
       "            background-color:  #e8e4f0;\n",
       "            color:  #000000;\n",
       "        }#T_99f7a_row13_col4{\n",
       "            background-color:  #b9c6e0;\n",
       "            color:  #000000;\n",
       "        }#T_99f7a_row13_col5{\n",
       "            background-color:  #e7e3f0;\n",
       "            color:  #000000;\n",
       "        }#T_99f7a_row13_col7{\n",
       "            background-color:  #04629a;\n",
       "            color:  #f1f1f1;\n",
       "        }</style><table id=\"T_99f7a_\" ><thead>    <tr>        <th class=\"blank level0\" ></th>        <th class=\"col_heading level0 col0\" colspan=\"8\">raised_amount_usd</th>    </tr>    <tr>        <th class=\"blank level1\" ></th>        <th class=\"col_heading level1 col0\" >count</th>        <th class=\"col_heading level1 col1\" >mean</th>        <th class=\"col_heading level1 col2\" >std</th>        <th class=\"col_heading level1 col3\" >min</th>        <th class=\"col_heading level1 col4\" >25%</th>        <th class=\"col_heading level1 col5\" >50%</th>        <th class=\"col_heading level1 col6\" >75%</th>        <th class=\"col_heading level1 col7\" >max</th>    </tr>    <tr>        <th class=\"index_name level0\" >funding_round_type</th>        <th class=\"blank\" ></th>        <th class=\"blank\" ></th>        <th class=\"blank\" ></th>        <th class=\"blank\" ></th>        <th class=\"blank\" ></th>        <th class=\"blank\" ></th>        <th class=\"blank\" ></th>        <th class=\"blank\" ></th>    </tr></thead><tbody>\n",
       "                <tr>\n",
       "                        <th id=\"T_99f7a_level0_row0\" class=\"row_heading level0 row0\" >angel</th>\n",
       "                        <td id=\"T_99f7a_row0_col0\" class=\"data row0 col0\" >4860</td>\n",
       "                        <td id=\"T_99f7a_row0_col1\" class=\"data row0 col1\" >958694</td>\n",
       "                        <td id=\"T_99f7a_row0_col2\" class=\"data row0 col2\" >7404397</td>\n",
       "                        <td id=\"T_99f7a_row0_col3\" class=\"data row0 col3\" >0</td>\n",
       "                        <td id=\"T_99f7a_row0_col4\" class=\"data row0 col4\" >150000</td>\n",
       "                        <td id=\"T_99f7a_row0_col5\" class=\"data row0 col5\" >400000</td>\n",
       "                        <td id=\"T_99f7a_row0_col6\" class=\"data row0 col6\" >1000000</td>\n",
       "                        <td id=\"T_99f7a_row0_col7\" class=\"data row0 col7\" >494511992</td>\n",
       "            </tr>\n",
       "            <tr>\n",
       "                        <th id=\"T_99f7a_level0_row1\" class=\"row_heading level0 row1\" >convertible_note</th>\n",
       "                        <td id=\"T_99f7a_row1_col0\" class=\"data row1 col0\" >1447</td>\n",
       "                        <td id=\"T_99f7a_row1_col1\" class=\"data row1 col1\" >1453439</td>\n",
       "                        <td id=\"T_99f7a_row1_col2\" class=\"data row1 col2\" >8043846</td>\n",
       "                        <td id=\"T_99f7a_row1_col3\" class=\"data row1 col3\" >0</td>\n",
       "                        <td id=\"T_99f7a_row1_col4\" class=\"data row1 col4\" >78848</td>\n",
       "                        <td id=\"T_99f7a_row1_col5\" class=\"data row1 col5\" >272000</td>\n",
       "                        <td id=\"T_99f7a_row1_col6\" class=\"data row1 col6\" >1000000</td>\n",
       "                        <td id=\"T_99f7a_row1_col7\" class=\"data row1 col7\" >185048285</td>\n",
       "            </tr>\n",
       "            <tr>\n",
       "                        <th id=\"T_99f7a_level0_row2\" class=\"row_heading level0 row2\" >debt_financing</th>\n",
       "                        <td id=\"T_99f7a_row2_col0\" class=\"data row2 col0\" >6682</td>\n",
       "                        <td id=\"T_99f7a_row2_col1\" class=\"data row2 col1\" >17043526</td>\n",
       "                        <td id=\"T_99f7a_row2_col2\" class=\"data row2 col2\" >280320357</td>\n",
       "                        <td id=\"T_99f7a_row2_col3\" class=\"data row2 col3\" >0</td>\n",
       "                        <td id=\"T_99f7a_row2_col4\" class=\"data row2 col4\" >330484</td>\n",
       "                        <td id=\"T_99f7a_row2_col5\" class=\"data row2 col5\" >1100000</td>\n",
       "                        <td id=\"T_99f7a_row2_col6\" class=\"data row2 col6\" >4000000</td>\n",
       "                        <td id=\"T_99f7a_row2_col7\" class=\"data row2 col7\" >21271935000</td>\n",
       "            </tr>\n",
       "            <tr>\n",
       "                        <th id=\"T_99f7a_level0_row3\" class=\"row_heading level0 row3\" >equity_crowdfunding</th>\n",
       "                        <td id=\"T_99f7a_row3_col0\" class=\"data row3 col0\" >1228</td>\n",
       "                        <td id=\"T_99f7a_row3_col1\" class=\"data row3 col1\" >538368</td>\n",
       "                        <td id=\"T_99f7a_row3_col2\" class=\"data row3 col2\" >1719329</td>\n",
       "                        <td id=\"T_99f7a_row3_col3\" class=\"data row3 col3\" >0</td>\n",
       "                        <td id=\"T_99f7a_row3_col4\" class=\"data row3 col4\" >7000</td>\n",
       "                        <td id=\"T_99f7a_row3_col5\" class=\"data row3 col5\" >100000</td>\n",
       "                        <td id=\"T_99f7a_row3_col6\" class=\"data row3 col6\" >395901</td>\n",
       "                        <td id=\"T_99f7a_row3_col7\" class=\"data row3 col7\" >27400000</td>\n",
       "            </tr>\n",
       "            <tr>\n",
       "                        <th id=\"T_99f7a_level0_row4\" class=\"row_heading level0 row4\" >grant</th>\n",
       "                        <td id=\"T_99f7a_row4_col0\" class=\"data row4 col0\" >2124</td>\n",
       "                        <td id=\"T_99f7a_row4_col1\" class=\"data row4 col1\" >4300576</td>\n",
       "                        <td id=\"T_99f7a_row4_col2\" class=\"data row4 col2\" >25587424</td>\n",
       "                        <td id=\"T_99f7a_row4_col3\" class=\"data row4 col3\" >0</td>\n",
       "                        <td id=\"T_99f7a_row4_col4\" class=\"data row4 col4\" >50000</td>\n",
       "                        <td id=\"T_99f7a_row4_col5\" class=\"data row4 col5\" >201684</td>\n",
       "                        <td id=\"T_99f7a_row4_col6\" class=\"data row4 col6\" >1700000</td>\n",
       "                        <td id=\"T_99f7a_row4_col7\" class=\"data row4 col7\" >750000000</td>\n",
       "            </tr>\n",
       "            <tr>\n",
       "                        <th id=\"T_99f7a_level0_row5\" class=\"row_heading level0 row5\" >non_equity_assistance</th>\n",
       "                        <td id=\"T_99f7a_row5_col0\" class=\"data row5 col0\" >73</td>\n",
       "                        <td id=\"T_99f7a_row5_col1\" class=\"data row5 col1\" >411203</td>\n",
       "                        <td id=\"T_99f7a_row5_col2\" class=\"data row5 col2\" >1771747</td>\n",
       "                        <td id=\"T_99f7a_row5_col3\" class=\"data row5 col3\" >0</td>\n",
       "                        <td id=\"T_99f7a_row5_col4\" class=\"data row5 col4\" >25000</td>\n",
       "                        <td id=\"T_99f7a_row5_col5\" class=\"data row5 col5\" >60000</td>\n",
       "                        <td id=\"T_99f7a_row5_col6\" class=\"data row5 col6\" >125000</td>\n",
       "                        <td id=\"T_99f7a_row5_col7\" class=\"data row5 col7\" >15000000</td>\n",
       "            </tr>\n",
       "            <tr>\n",
       "                        <th id=\"T_99f7a_level0_row6\" class=\"row_heading level0 row6\" >post_ipo_debt</th>\n",
       "                        <td id=\"T_99f7a_row6_col0\" class=\"data row6 col0\" >152</td>\n",
       "                        <td id=\"T_99f7a_row6_col1\" class=\"data row6 col1\" >168704572</td>\n",
       "                        <td id=\"T_99f7a_row6_col2\" class=\"data row6 col2\" >602473804</td>\n",
       "                        <td id=\"T_99f7a_row6_col3\" class=\"data row6 col3\" >70000</td>\n",
       "                        <td id=\"T_99f7a_row6_col4\" class=\"data row6 col4\" >4000000</td>\n",
       "                        <td id=\"T_99f7a_row6_col5\" class=\"data row6 col5\" >19950000</td>\n",
       "                        <td id=\"T_99f7a_row6_col6\" class=\"data row6 col6\" >60000000</td>\n",
       "                        <td id=\"T_99f7a_row6_col7\" class=\"data row6 col7\" >5800000000</td>\n",
       "            </tr>\n",
       "            <tr>\n",
       "                        <th id=\"T_99f7a_level0_row7\" class=\"row_heading level0 row7\" >post_ipo_equity</th>\n",
       "                        <td id=\"T_99f7a_row7_col0\" class=\"data row7 col0\" >628</td>\n",
       "                        <td id=\"T_99f7a_row7_col1\" class=\"data row7 col1\" >82182494</td>\n",
       "                        <td id=\"T_99f7a_row7_col2\" class=\"data row7 col2\" >469188916</td>\n",
       "                        <td id=\"T_99f7a_row7_col3\" class=\"data row7 col3\" >77</td>\n",
       "                        <td id=\"T_99f7a_row7_col4\" class=\"data row7 col4\" >3764794</td>\n",
       "                        <td id=\"T_99f7a_row7_col5\" class=\"data row7 col5\" >12262852</td>\n",
       "                        <td id=\"T_99f7a_row7_col6\" class=\"data row7 col6\" >40000000</td>\n",
       "                        <td id=\"T_99f7a_row7_col7\" class=\"data row7 col7\" >10664943639</td>\n",
       "            </tr>\n",
       "            <tr>\n",
       "                        <th id=\"T_99f7a_level0_row8\" class=\"row_heading level0 row8\" >private_equity</th>\n",
       "                        <td id=\"T_99f7a_row8_col0\" class=\"data row8 col0\" >1936</td>\n",
       "                        <td id=\"T_99f7a_row8_col1\" class=\"data row8 col1\" >73308593</td>\n",
       "                        <td id=\"T_99f7a_row8_col2\" class=\"data row8 col2\" >198113458</td>\n",
       "                        <td id=\"T_99f7a_row8_col3\" class=\"data row8 col3\" >0</td>\n",
       "                        <td id=\"T_99f7a_row8_col4\" class=\"data row8 col4\" >5000000</td>\n",
       "                        <td id=\"T_99f7a_row8_col5\" class=\"data row8 col5\" >20000000</td>\n",
       "                        <td id=\"T_99f7a_row8_col6\" class=\"data row8 col6\" >75000000</td>\n",
       "                        <td id=\"T_99f7a_row8_col7\" class=\"data row8 col7\" >4745460219</td>\n",
       "            </tr>\n",
       "            <tr>\n",
       "                        <th id=\"T_99f7a_level0_row9\" class=\"row_heading level0 row9\" >product_crowdfunding</th>\n",
       "                        <td id=\"T_99f7a_row9_col0\" class=\"data row9 col0\" >386</td>\n",
       "                        <td id=\"T_99f7a_row9_col1\" class=\"data row9 col1\" >1363131</td>\n",
       "                        <td id=\"T_99f7a_row9_col2\" class=\"data row9 col2\" >4698380</td>\n",
       "                        <td id=\"T_99f7a_row9_col3\" class=\"data row9 col3\" >0</td>\n",
       "                        <td id=\"T_99f7a_row9_col4\" class=\"data row9 col4\" >40242</td>\n",
       "                        <td id=\"T_99f7a_row9_col5\" class=\"data row9 col5\" >183915</td>\n",
       "                        <td id=\"T_99f7a_row9_col6\" class=\"data row9 col6\" >735000</td>\n",
       "                        <td id=\"T_99f7a_row9_col7\" class=\"data row9 col7\" >52000000</td>\n",
       "            </tr>\n",
       "            <tr>\n",
       "                        <th id=\"T_99f7a_level0_row10\" class=\"row_heading level0 row10\" >secondary_market</th>\n",
       "                        <td id=\"T_99f7a_row10_col0\" class=\"data row10 col0\" >30</td>\n",
       "                        <td id=\"T_99f7a_row10_col1\" class=\"data row10 col1\" >79649630</td>\n",
       "                        <td id=\"T_99f7a_row10_col2\" class=\"data row10 col2\" >140103760</td>\n",
       "                        <td id=\"T_99f7a_row10_col3\" class=\"data row10 col3\" >2323</td>\n",
       "                        <td id=\"T_99f7a_row10_col4\" class=\"data row10 col4\" >5025000</td>\n",
       "                        <td id=\"T_99f7a_row10_col5\" class=\"data row10 col5\" >32600000</td>\n",
       "                        <td id=\"T_99f7a_row10_col6\" class=\"data row10 col6\" >84475000</td>\n",
       "                        <td id=\"T_99f7a_row10_col7\" class=\"data row10 col7\" >680611554</td>\n",
       "            </tr>\n",
       "            <tr>\n",
       "                        <th id=\"T_99f7a_level0_row11\" class=\"row_heading level0 row11\" >seed</th>\n",
       "                        <td id=\"T_99f7a_row11_col0\" class=\"data row11 col0\" >23603</td>\n",
       "                        <td id=\"T_99f7a_row11_col1\" class=\"data row11 col1\" >719818</td>\n",
       "                        <td id=\"T_99f7a_row11_col2\" class=\"data row11 col2\" >2221733</td>\n",
       "                        <td id=\"T_99f7a_row11_col3\" class=\"data row11 col3\" >0</td>\n",
       "                        <td id=\"T_99f7a_row11_col4\" class=\"data row11 col4\" >55000</td>\n",
       "                        <td id=\"T_99f7a_row11_col5\" class=\"data row11 col5\" >275000</td>\n",
       "                        <td id=\"T_99f7a_row11_col6\" class=\"data row11 col6\" >1000000</td>\n",
       "                        <td id=\"T_99f7a_row11_col7\" class=\"data row11 col7\" >200000000</td>\n",
       "            </tr>\n",
       "            <tr>\n",
       "                        <th id=\"T_99f7a_level0_row12\" class=\"row_heading level0 row12\" >undisclosed</th>\n",
       "                        <td id=\"T_99f7a_row12_col0\" class=\"data row12 col0\" >1582</td>\n",
       "                        <td id=\"T_99f7a_row12_col1\" class=\"data row12 col1\" >19242370</td>\n",
       "                        <td id=\"T_99f7a_row12_col2\" class=\"data row12 col2\" >199323809</td>\n",
       "                        <td id=\"T_99f7a_row12_col3\" class=\"data row12 col3\" >0</td>\n",
       "                        <td id=\"T_99f7a_row12_col4\" class=\"data row12 col4\" >220000</td>\n",
       "                        <td id=\"T_99f7a_row12_col5\" class=\"data row12 col5\" >1018680</td>\n",
       "                        <td id=\"T_99f7a_row12_col6\" class=\"data row12 col6\" >4848804</td>\n",
       "                        <td id=\"T_99f7a_row12_col7\" class=\"data row12 col7\" >5000000000</td>\n",
       "            </tr>\n",
       "            <tr>\n",
       "                        <th id=\"T_99f7a_level0_row13\" class=\"row_heading level0 row13\" >venture</th>\n",
       "                        <td id=\"T_99f7a_row13_col0\" class=\"data row13 col0\" >50228</td>\n",
       "                        <td id=\"T_99f7a_row13_col1\" class=\"data row13 col1\" >11748949</td>\n",
       "                        <td id=\"T_99f7a_row13_col2\" class=\"data row13 col2\" >86352067</td>\n",
       "                        <td id=\"T_99f7a_row13_col3\" class=\"data row13 col3\" >0</td>\n",
       "                        <td id=\"T_99f7a_row13_col4\" class=\"data row13 col4\" >1600902</td>\n",
       "                        <td id=\"T_99f7a_row13_col5\" class=\"data row13 col5\" >5000000</td>\n",
       "                        <td id=\"T_99f7a_row13_col6\" class=\"data row13 col6\" >12000000</td>\n",
       "                        <td id=\"T_99f7a_row13_col7\" class=\"data row13 col7\" >17600000000</td>\n",
       "            </tr>\n",
       "    </tbody></table>"
      ],
      "text/plain": [
       "<pandas.io.formats.style.Styler at 0x1ad78e1acd0>"
      ]
     },
     "execution_count": 33,
     "metadata": {},
     "output_type": "execute_result"
    }
   ],
   "source": [
    "#Checking overall statistic of each funding type w.r.t raised amount\n",
    "#style has been used to apply conditional formatting along with each columns\n",
    "\n",
    "master_frame.groupby('funding_round_type').describe().style.background_gradient().set_precision(0)"
   ]
  },
  {
   "cell_type": "code",
   "execution_count": 34,
   "id": "37689b4e",
   "metadata": {},
   "outputs": [
    {
     "data": {
      "image/png": "[encoded data removed]",
      "text/plain": [
       "<Figure size 1152x576 with 1 Axes>"
      ]
     },
     "metadata": {
      "needs_background": "light"
     },
     "output_type": "display_data"
    }
   ],
   "source": [
    "#Plotting above data as boxplot where y-axis on logscale\n",
    "plt.figure(figsize=(16,8))\n",
    "\n",
    "ord_fund_type=master_frame.groupby('funding_round_type').median().sort_values('raised_amount_usd',ascending=False).index\n",
    "sns.boxplot(data=master_frame,x='funding_round_type',y='raised_amount_usd',order=ord_fund_type)\n",
    "\n",
    "plt.xticks(rotation=90,fontsize=18)\n",
    "plt.yscale(\"log\")\n",
    "\n",
    "\n",
    "plt.xlabel('Type of Funding', fontsize=18)\n",
    "plt.ylabel('Raised Amount in USD (Log Scale)', fontsize=16)\n",
    "plt.title('Total Raised Amount by each type of funding',fontsize=25)\n",
    "plt.tight_layout()\n",
    "\n",
    "plt.savefig('Plots/Total Raised Amount by each type of funding_boxplot',dpi=200)\n"
   ]
  },
  {
   "cell_type": "code",
   "execution_count": 35,
   "id": "7b1662d0",
   "metadata": {},
   "outputs": [
    {
     "data": {
      "image/png": "[encoded data removed]",
      "text/plain": [
       "<Figure size 864x576 with 1 Axes>"
      ]
     },
     "metadata": {
      "needs_background": "light"
     },
     "output_type": "display_data"
    }
   ],
   "source": [
    "# Making copy of master_frame and dividing raised amount by 1,000,000\n",
    "\n",
    "df=master_frame.copy()\n",
    "df['raised_amount_usd']=df['raised_amount_usd']/1000000\n",
    "ordered=df.groupby('funding_round_type').sum().sort_values('raised_amount_usd',ascending=False).index\n",
    "\n",
    "# Plotting Total Raised Amount by each different funding type\n",
    "plt.figure(figsize=(12,8))\n",
    "plots=sns.barplot(data=df,x='funding_round_type',y='raised_amount_usd',estimator=np.sum,order=ordered,ci=None)\n",
    "for bar in plots.patches:\n",
    "    plots.annotate(format(bar.get_height(), '.0f'), \n",
    "                       (bar.get_x() + bar.get_width() / 2, \n",
    "                        bar.get_height()), ha='center', va='center',\n",
    "                       size=10, xytext=(9, 10),\n",
    "                       textcoords='offset points')\n",
    "plt.xticks(rotation=-60,fontsize=18)\n",
    "plt.xlabel('Type of Funding', fontsize=18)\n",
    "plt.ylabel('Raised Amount in USD Million', fontsize=16)\n",
    "plt.title('Total Raised Amount by each type of funding',fontsize=25)\n",
    "plt.grid(axis = 'y', linestyle = '--')\n",
    "\n",
    "plt.tight_layout()\n",
    "plt.savefig('Plots/Total Raised Amount by each type of funding',dpi=300)\n"
   ]
  },
  {
   "cell_type": "code",
   "execution_count": 36,
   "id": "0b719a55",
   "metadata": {},
   "outputs": [
    {
     "data": {
      "image/png": "[encoded data removed]",
      "text/plain": [
       "<Figure size 864x576 with 1 Axes>"
      ]
     },
     "metadata": {
      "needs_background": "light"
     },
     "output_type": "display_data"
    }
   ],
   "source": [
    "# Plotting Average Raised Amount by each different funding type\n",
    "plt.figure(figsize=(12,8))\n",
    "plots=sns.barplot(data=df,x='funding_round_type',y='raised_amount_usd',estimator=np.mean,order=ordered,ci=None)\n",
    "for bar in plots.patches:\n",
    "    plots.annotate(format(bar.get_height(), '.0f'), \n",
    "                       (bar.get_x() + bar.get_width() / 2, \n",
    "                        bar.get_height()), ha='center', va='center',\n",
    "                       size=10, xytext=(8, 10),\n",
    "                       textcoords='offset points')\n",
    "plt.xticks(rotation=-60, fontsize=18)\n",
    "plt.xlabel('Type of Funding', fontsize=18)\n",
    "plt.ylabel('Raised Amount in USD Million', fontsize=16)\n",
    "plt.title('Average Raised Amount by each type of funding',fontsize=25)\n",
    "plt.grid(axis = 'y', linestyle = '--')\n",
    "\n",
    "plt.tight_layout()\n",
    "plt.savefig('Plots/Average Raised Amount by each type of funding',dpi=200)"
   ]
  },
  {
   "cell_type": "code",
   "execution_count": 37,
   "id": "beb8faa0",
   "metadata": {},
   "outputs": [
    {
     "data": {
      "image/png": "[encoded data removed]",
      "text/plain": [
       "<Figure size 864x576 with 1 Axes>"
      ]
     },
     "metadata": {
      "needs_background": "light"
     },
     "output_type": "display_data"
    }
   ],
   "source": [
    "#Plotting No.of Investment by each funding type\n",
    "plt.figure(figsize=(12,8))\n",
    "plots=sns.countplot(data=df,x='funding_round_type',order=ordered)\n",
    "for bar in plots.patches:\n",
    "    plots.annotate(format(bar.get_height(), '.0f'), \n",
    "                       (bar.get_x() + bar.get_width() / 2, \n",
    "                        bar.get_height()), ha='center', va='center',\n",
    "                       size=10, xytext=(0, 8),\n",
    "                       textcoords='offset points')\n",
    "plt.xticks(rotation=-65, fontsize=18)\n",
    "plt.xlabel('Type of Funding', fontsize=18)\n",
    "plt.ylabel('No. Of Investments', fontsize=16)\n",
    "plt.title('No. of Investment by each types of funding',fontsize=25)\n",
    "plt.grid(axis = 'y', linestyle = '--')\n",
    "\n",
    "plt.tight_layout()\n",
    "plt.savefig('Plots/Number of Investment with each types of funding',dpi=300)\n"
   ]
  },
  {
   "cell_type": "code",
   "execution_count": 38,
   "id": "b781c1b7",
   "metadata": {},
   "outputs": [
    {
     "data": {
      "text/html": [
       "<style  type=\"text/css\" >\n",
       "#T_6b307_row0_col0,#T_6b307_row1_col1,#T_6b307_row3_col0,#T_6b307_row3_col1,#T_6b307_row5_col0,#T_6b307_row5_col1,#T_6b307_row5_col2,#T_6b307_row6_col2,#T_6b307_row9_col1,#T_6b307_row10_col2,#T_6b307_row11_col0{\n",
       "            background-color:  #f7fcf5;\n",
       "            color:  #000000;\n",
       "        }#T_6b307_row0_col1,#T_6b307_row1_col0,#T_6b307_row9_col0,#T_6b307_row9_col2,#T_6b307_row10_col1{\n",
       "            background-color:  #f6fcf4;\n",
       "            color:  #000000;\n",
       "        }#T_6b307_row0_col2,#T_6b307_row2_col0{\n",
       "            background-color:  #e9f7e5;\n",
       "            color:  #000000;\n",
       "        }#T_6b307_row1_col2,#T_6b307_row11_col1,#T_6b307_row12_col2{\n",
       "            background-color:  #f3faf0;\n",
       "            color:  #000000;\n",
       "        }#T_6b307_row2_col1{\n",
       "            background-color:  #d5efcf;\n",
       "            color:  #000000;\n",
       "        }#T_6b307_row2_col2{\n",
       "            background-color:  #e4f5df;\n",
       "            color:  #000000;\n",
       "        }#T_6b307_row3_col2{\n",
       "            background-color:  #f4fbf1;\n",
       "            color:  #000000;\n",
       "        }#T_6b307_row4_col0{\n",
       "            background-color:  #f4fbf2;\n",
       "            color:  #000000;\n",
       "        }#T_6b307_row4_col1,#T_6b307_row7_col2{\n",
       "            background-color:  #f5fbf3;\n",
       "            color:  #000000;\n",
       "        }#T_6b307_row4_col2,#T_6b307_row6_col1{\n",
       "            background-color:  #f1faee;\n",
       "            color:  #000000;\n",
       "        }#T_6b307_row6_col0,#T_6b307_row13_col1,#T_6b307_row13_col2{\n",
       "            background-color:  #00441b;\n",
       "            color:  #f1f1f1;\n",
       "        }#T_6b307_row7_col0{\n",
       "            background-color:  #79c67a;\n",
       "            color:  #000000;\n",
       "        }#T_6b307_row7_col1{\n",
       "            background-color:  #ebf7e7;\n",
       "            color:  #000000;\n",
       "        }#T_6b307_row8_col0{\n",
       "            background-color:  #8dd08a;\n",
       "            color:  #000000;\n",
       "        }#T_6b307_row8_col1{\n",
       "            background-color:  #caeac3;\n",
       "            color:  #000000;\n",
       "        }#T_6b307_row8_col2{\n",
       "            background-color:  #f2faef;\n",
       "            color:  #000000;\n",
       "        }#T_6b307_row10_col0,#T_6b307_row11_col2{\n",
       "            background-color:  #7fc97f;\n",
       "            color:  #000000;\n",
       "        }#T_6b307_row12_col0{\n",
       "            background-color:  #e7f6e3;\n",
       "            color:  #000000;\n",
       "        }#T_6b307_row12_col1{\n",
       "            background-color:  #f0f9ec;\n",
       "            color:  #000000;\n",
       "        }#T_6b307_row13_col0{\n",
       "            background-color:  #edf8ea;\n",
       "            color:  #000000;\n",
       "        }</style><table id=\"T_6b307_\" ><thead>    <tr>        <th class=\"blank level0\" ></th>        <th class=\"col_heading level0 col0\" >mean</th>        <th class=\"col_heading level0 col1\" >sum</th>        <th class=\"col_heading level0 col2\" >count</th>    </tr>    <tr>        <th class=\"index_name level0\" >funding_round_type</th>        <th class=\"blank\" ></th>        <th class=\"blank\" ></th>        <th class=\"blank\" ></th>    </tr></thead><tbody>\n",
       "                <tr>\n",
       "                        <th id=\"T_6b307_level0_row0\" class=\"row_heading level0 row0\" >angel</th>\n",
       "                        <td id=\"T_6b307_row0_col0\" class=\"data row0 col0\" >958694.47</td>\n",
       "                        <td id=\"T_6b307_row0_col1\" class=\"data row0 col1\" >4659255123.00</td>\n",
       "                        <td id=\"T_6b307_row0_col2\" class=\"data row0 col2\" >4860</td>\n",
       "            </tr>\n",
       "            <tr>\n",
       "                        <th id=\"T_6b307_level0_row1\" class=\"row_heading level0 row1\" >convertible_note</th>\n",
       "                        <td id=\"T_6b307_row1_col0\" class=\"data row1 col0\" >1453438.54</td>\n",
       "                        <td id=\"T_6b307_row1_col1\" class=\"data row1 col1\" >2103125572.00</td>\n",
       "                        <td id=\"T_6b307_row1_col2\" class=\"data row1 col2\" >1447</td>\n",
       "            </tr>\n",
       "            <tr>\n",
       "                        <th id=\"T_6b307_level0_row2\" class=\"row_heading level0 row2\" >debt_financing</th>\n",
       "                        <td id=\"T_6b307_row2_col0\" class=\"data row2 col0\" >17043526.02</td>\n",
       "                        <td id=\"T_6b307_row2_col1\" class=\"data row2 col1\" >113884840886.00</td>\n",
       "                        <td id=\"T_6b307_row2_col2\" class=\"data row2 col2\" >6682</td>\n",
       "            </tr>\n",
       "            <tr>\n",
       "                        <th id=\"T_6b307_level0_row3\" class=\"row_heading level0 row3\" >equity_crowdfunding</th>\n",
       "                        <td id=\"T_6b307_row3_col0\" class=\"data row3 col0\" >538368.21</td>\n",
       "                        <td id=\"T_6b307_row3_col1\" class=\"data row3 col1\" >661116163.00</td>\n",
       "                        <td id=\"T_6b307_row3_col2\" class=\"data row3 col2\" >1228</td>\n",
       "            </tr>\n",
       "            <tr>\n",
       "                        <th id=\"T_6b307_level0_row4\" class=\"row_heading level0 row4\" >grant</th>\n",
       "                        <td id=\"T_6b307_row4_col0\" class=\"data row4 col0\" >4300576.34</td>\n",
       "                        <td id=\"T_6b307_row4_col1\" class=\"data row4 col1\" >9134424145.00</td>\n",
       "                        <td id=\"T_6b307_row4_col2\" class=\"data row4 col2\" >2124</td>\n",
       "            </tr>\n",
       "            <tr>\n",
       "                        <th id=\"T_6b307_level0_row5\" class=\"row_heading level0 row5\" >non_equity_assistance</th>\n",
       "                        <td id=\"T_6b307_row5_col0\" class=\"data row5 col0\" >411203.05</td>\n",
       "                        <td id=\"T_6b307_row5_col1\" class=\"data row5 col1\" >30017823.00</td>\n",
       "                        <td id=\"T_6b307_row5_col2\" class=\"data row5 col2\" >73</td>\n",
       "            </tr>\n",
       "            <tr>\n",
       "                        <th id=\"T_6b307_level0_row6\" class=\"row_heading level0 row6\" >post_ipo_debt</th>\n",
       "                        <td id=\"T_6b307_row6_col0\" class=\"data row6 col0\" >168704571.82</td>\n",
       "                        <td id=\"T_6b307_row6_col1\" class=\"data row6 col1\" >25643094917.00</td>\n",
       "                        <td id=\"T_6b307_row6_col2\" class=\"data row6 col2\" >152</td>\n",
       "            </tr>\n",
       "            <tr>\n",
       "                        <th id=\"T_6b307_level0_row7\" class=\"row_heading level0 row7\" >post_ipo_equity</th>\n",
       "                        <td id=\"T_6b307_row7_col0\" class=\"data row7 col0\" >82182493.87</td>\n",
       "                        <td id=\"T_6b307_row7_col1\" class=\"data row7 col1\" >51610606151.00</td>\n",
       "                        <td id=\"T_6b307_row7_col2\" class=\"data row7 col2\" >628</td>\n",
       "            </tr>\n",
       "            <tr>\n",
       "                        <th id=\"T_6b307_level0_row8\" class=\"row_heading level0 row8\" >private_equity</th>\n",
       "                        <td id=\"T_6b307_row8_col0\" class=\"data row8 col0\" >73308593.03</td>\n",
       "                        <td id=\"T_6b307_row8_col1\" class=\"data row8 col1\" >141925436105.00</td>\n",
       "                        <td id=\"T_6b307_row8_col2\" class=\"data row8 col2\" >1936</td>\n",
       "            </tr>\n",
       "            <tr>\n",
       "                        <th id=\"T_6b307_level0_row9\" class=\"row_heading level0 row9\" >product_crowdfunding</th>\n",
       "                        <td id=\"T_6b307_row9_col0\" class=\"data row9 col0\" >1363131.07</td>\n",
       "                        <td id=\"T_6b307_row9_col1\" class=\"data row9 col1\" >526168593.00</td>\n",
       "                        <td id=\"T_6b307_row9_col2\" class=\"data row9 col2\" >386</td>\n",
       "            </tr>\n",
       "            <tr>\n",
       "                        <th id=\"T_6b307_level0_row10\" class=\"row_heading level0 row10\" >secondary_market</th>\n",
       "                        <td id=\"T_6b307_row10_col0\" class=\"data row10 col0\" >79649630.10</td>\n",
       "                        <td id=\"T_6b307_row10_col1\" class=\"data row10 col1\" >2389488903.00</td>\n",
       "                        <td id=\"T_6b307_row10_col2\" class=\"data row10 col2\" >30</td>\n",
       "            </tr>\n",
       "            <tr>\n",
       "                        <th id=\"T_6b307_level0_row11\" class=\"row_heading level0 row11\" >seed</th>\n",
       "                        <td id=\"T_6b307_row11_col0\" class=\"data row11 col0\" >719818.00</td>\n",
       "                        <td id=\"T_6b307_row11_col1\" class=\"data row11 col1\" >16989864181.00</td>\n",
       "                        <td id=\"T_6b307_row11_col2\" class=\"data row11 col2\" >23603</td>\n",
       "            </tr>\n",
       "            <tr>\n",
       "                        <th id=\"T_6b307_level0_row12\" class=\"row_heading level0 row12\" >undisclosed</th>\n",
       "                        <td id=\"T_6b307_row12_col0\" class=\"data row12 col0\" >19242370.23</td>\n",
       "                        <td id=\"T_6b307_row12_col1\" class=\"data row12 col1\" >30441429697.00</td>\n",
       "                        <td id=\"T_6b307_row12_col2\" class=\"data row12 col2\" >1582</td>\n",
       "            </tr>\n",
       "            <tr>\n",
       "                        <th id=\"T_6b307_level0_row13\" class=\"row_heading level0 row13\" >venture</th>\n",
       "                        <td id=\"T_6b307_row13_col0\" class=\"data row13 col0\" >11748949.13</td>\n",
       "                        <td id=\"T_6b307_row13_col1\" class=\"data row13 col1\" >590126216876.00</td>\n",
       "                        <td id=\"T_6b307_row13_col2\" class=\"data row13 col2\" >50228</td>\n",
       "            </tr>\n",
       "    </tbody></table>"
      ],
      "text/plain": [
       "<pandas.io.formats.style.Styler at 0x1ad792fa070>"
      ]
     },
     "execution_count": 38,
     "metadata": {},
     "output_type": "execute_result"
    }
   ],
   "source": [
    "#Restrist pandas using scienticfic notation\n",
    "pd.set_option('display.float_format', lambda x: '%.3f' % x)\n",
    "\n",
    "master_frame.groupby('funding_round_type')['raised_amount_usd'].agg(['mean','sum','count']).style.background_gradient(cmap='Greens').set_precision(2) "
   ]
  },
  {
   "cell_type": "markdown",
   "id": "097ce1b7",
   "metadata": {},
   "source": [
    "Spark Funds prefers to invest in only these four fund type let's calculate the most representative value of the investment amount for each of the four funding types (venture, angel, seed, and private equity)"
   ]
  },
  {
   "cell_type": "code",
   "execution_count": 39,
   "id": "d1bac8f3",
   "metadata": {},
   "outputs": [],
   "source": [
    "fund4=master_frame.loc[master_frame['funding_round_type'].isin(['venture', 'angel', 'seed','private_equity'])].copy()"
   ]
  },
  {
   "cell_type": "code",
   "execution_count": 40,
   "id": "74ff837c",
   "metadata": {},
   "outputs": [
    {
     "data": {
      "image/png": "[encoded data removed]",
      "text/plain": [
       "<Figure size 720x432 with 1 Axes>"
      ]
     },
     "metadata": {
      "needs_background": "light"
     },
     "output_type": "display_data"
    }
   ],
   "source": [
    "# Total Raised Amount by each four type of funding\n",
    "\n",
    "ord=fund4.groupby('funding_round_type').sum().sort_values('raised_amount_usd',ascending=False).index\n",
    "\n",
    "plt.figure(figsize=(10,6))\n",
    "plots=sns.barplot(data=fund4,x='funding_round_type',y='raised_amount_usd',estimator=np.sum,order=ord,ci=None)\n",
    "\n",
    "for bar in plots.patches:\n",
    "    plots.annotate(format(bar.get_height(), '.0f'), \n",
    "                       (bar.get_x() + bar.get_width() / 2, \n",
    "                        bar.get_height()), ha='center', va='center',\n",
    "                       size=10, xytext=(8, 10),\n",
    "                       textcoords='offset points')\n",
    "\n",
    "plt.xticks(fontsize=15)\n",
    "plt.yticks(fontsize=15)\n",
    "plt.xlabel('Type of Funding', fontsize=16)\n",
    "plt.ylabel('Raised Amount in USD', fontsize=16)\n",
    "plt.title('Total Raised Amount by each type of funding',fontsize=20)\n",
    "plt.grid(axis = 'y', linestyle = '--')\n",
    "\n",
    "\n",
    "plt.tight_layout()\n",
    "plt.savefig('Plots/Total Raised Amount by each type of funding 4',dpi=300)"
   ]
  },
  {
   "cell_type": "code",
   "execution_count": 41,
   "id": "c93957eb",
   "metadata": {},
   "outputs": [
    {
     "data": {
      "image/png": "[encoded data removed]",
      "text/plain": [
       "<Figure size 720x432 with 1 Axes>"
      ]
     },
     "metadata": {
      "needs_background": "light"
     },
     "output_type": "display_data"
    }
   ],
   "source": [
    "# Number of Investment by each four type of funding\n",
    "\n",
    "plt.figure(figsize=(10,6))\n",
    "plots=sns.countplot(data=fund4,x='funding_round_type',order=ord)\n",
    "\n",
    "for bar in plots.patches:\n",
    "    plots.annotate(format(bar.get_height(), '.0f'), \n",
    "                       (bar.get_x() + bar.get_width() / 2, \n",
    "                        bar.get_height()), ha='center', va='center',\n",
    "                       size=12, xytext=(9, 10),\n",
    "                       textcoords='offset points')\n",
    "\n",
    "plt.xticks(fontsize=15)\n",
    "plt.yticks(fontsize=15)\n",
    "plt.xlabel('Type of Funding', fontsize=16)\n",
    "plt.ylabel('Number of Investment', fontsize=16)\n",
    "plt.title('Number of Investment by each type of funding',fontsize=20)\n",
    "plt.grid(axis = 'y', linestyle = '--')\n",
    "\n",
    "\n",
    "plt.tight_layout()\n",
    "plt.savefig('Plots/Number of Investment with each types of funding 4',dpi=200)"
   ]
  },
  {
   "cell_type": "code",
   "execution_count": 42,
   "id": "7db9e415",
   "metadata": {},
   "outputs": [
    {
     "data": {
      "image/png": "[encoded data removed]",
      "text/plain": [
       "<Figure size 720x432 with 1 Axes>"
      ]
     },
     "metadata": {
      "needs_background": "light"
     },
     "output_type": "display_data"
    }
   ],
   "source": [
    "#Average Raised Amount by each four type of funding \n",
    "\n",
    "plt.figure(figsize=(10,6))\n",
    "plots=sns.barplot(data=fund4,x='funding_round_type',y='raised_amount_usd',estimator=np.mean,order=ord,ci=None)\n",
    "\n",
    "for bar in plots.patches:\n",
    "    plots.annotate(format(bar.get_height(), '.0f'), \n",
    "                       (bar.get_x() + bar.get_width() / 2, \n",
    "                        bar.get_height()), ha='center', va='center',\n",
    "                       size=12, xytext=(9, 10),\n",
    "                       textcoords='offset points')\n",
    "\n",
    "plt.xticks(fontsize=15)\n",
    "plt.yticks(fontsize=15)\n",
    "plt.xlabel('Type of Funding', fontsize=16)\n",
    "plt.ylabel('Raised Amount in USD', fontsize=16)\n",
    "plt.title('Average Raised Amount by each type of funding',fontsize=20)\n",
    "plt.grid(axis = 'y', linestyle = '--')\n",
    "plt.axhline(y=5000000, color='r', linestyle='--')\n",
    "plt.axhline(y=15000000, color='r', linestyle='--')\n",
    "\n",
    "plt.tight_layout()\n",
    "plt.savefig('Plots/Average Raised Amount by each type of funding 4',dpi=200)"
   ]
  },
  {
   "cell_type": "code",
   "execution_count": 43,
   "id": "c3debced",
   "metadata": {},
   "outputs": [
    {
     "data": {
      "text/plain": [
       "funding_round_type\n",
       "private_equity   73308593.029\n",
       "venture          11748949.129\n",
       "angel              958694.470\n",
       "seed               719817.997\n",
       "Name: raised_amount_usd, dtype: float64"
      ]
     },
     "execution_count": 43,
     "metadata": {},
     "output_type": "execute_result"
    }
   ],
   "source": [
    "# Average investment amount \n",
    "fund4.groupby('funding_round_type')['raised_amount_usd'].mean().sort_values(ascending=False)"
   ]
  },
  {
   "cell_type": "markdown",
   "id": "65c3058b",
   "metadata": {},
   "source": [
    "Based on the most representative investment amount calculated above, Spark Funds want to invest within 5M to 15M investment per round. As we can see, the Venture funding type has the most no. of investment, the most amount of investment and more importantly its average raised amount is within the desired range. Hence, Spark should go ahead with the Venture type of funding."
   ]
  },
  {
   "cell_type": "markdown",
   "id": "47ac42c6",
   "metadata": {},
   "source": [
    "-------------"
   ]
  },
  {
   "cell_type": "markdown",
   "id": "47a05a87",
   "metadata": {},
   "source": [
    "# Country Analysis"
   ]
  },
  {
   "cell_type": "code",
   "execution_count": 44,
   "id": "328a57b5",
   "metadata": {},
   "outputs": [],
   "source": [
    "#Filtering with most suitable investment type\n",
    "venture_df=master_frame.loc[master_frame['funding_round_type']=='venture'].copy()"
   ]
  },
  {
   "cell_type": "code",
   "execution_count": 45,
   "id": "66fd9abe",
   "metadata": {},
   "outputs": [
    {
     "data": {
      "text/plain": [
       "(55494, 8)"
      ]
     },
     "execution_count": 45,
     "metadata": {},
     "output_type": "execute_result"
    }
   ],
   "source": [
    "venture_df.shape "
   ]
  },
  {
   "cell_type": "code",
   "execution_count": 46,
   "id": "51499b31",
   "metadata": {
    "scrolled": false
   },
   "outputs": [
    {
     "data": {
      "text/html": [
       "<div>\n",
       "<style scoped>\n",
       "    .dataframe tbody tr th:only-of-type {\n",
       "        vertical-align: middle;\n",
       "    }\n",
       "\n",
       "    .dataframe tbody tr th {\n",
       "        vertical-align: top;\n",
       "    }\n",
       "\n",
       "    .dataframe thead th {\n",
       "        text-align: right;\n",
       "    }\n",
       "</style>\n",
       "<table border=\"1\" class=\"dataframe\">\n",
       "  <thead>\n",
       "    <tr style=\"text-align: right;\">\n",
       "      <th></th>\n",
       "      <th>raised_amount_usd</th>\n",
       "    </tr>\n",
       "    <tr>\n",
       "      <th>country_code</th>\n",
       "      <th></th>\n",
       "    </tr>\n",
       "  </thead>\n",
       "  <tbody>\n",
       "    <tr>\n",
       "      <th>USA</th>\n",
       "      <td>422510842796.000</td>\n",
       "    </tr>\n",
       "    <tr>\n",
       "      <th>CHN</th>\n",
       "      <td>39835418773.000</td>\n",
       "    </tr>\n",
       "    <tr>\n",
       "      <th>GBR</th>\n",
       "      <td>20245627416.000</td>\n",
       "    </tr>\n",
       "    <tr>\n",
       "      <th>IND</th>\n",
       "      <td>14391858718.000</td>\n",
       "    </tr>\n",
       "    <tr>\n",
       "      <th>CAN</th>\n",
       "      <td>9583332317.000</td>\n",
       "    </tr>\n",
       "    <tr>\n",
       "      <th>FRA</th>\n",
       "      <td>7259536732.000</td>\n",
       "    </tr>\n",
       "    <tr>\n",
       "      <th>ISR</th>\n",
       "      <td>6907514579.000</td>\n",
       "    </tr>\n",
       "    <tr>\n",
       "      <th>DEU</th>\n",
       "      <td>6346959822.000</td>\n",
       "    </tr>\n",
       "    <tr>\n",
       "      <th>JPN</th>\n",
       "      <td>3363676611.000</td>\n",
       "    </tr>\n",
       "  </tbody>\n",
       "</table>\n",
       "</div>"
      ],
      "text/plain": [
       "              raised_amount_usd\n",
       "country_code                   \n",
       "USA            422510842796.000\n",
       "CHN             39835418773.000\n",
       "GBR             20245627416.000\n",
       "IND             14391858718.000\n",
       "CAN              9583332317.000\n",
       "FRA              7259536732.000\n",
       "ISR              6907514579.000\n",
       "DEU              6346959822.000\n",
       "JPN              3363676611.000"
      ]
     },
     "execution_count": 46,
     "metadata": {},
     "output_type": "execute_result"
    }
   ],
   "source": [
    "#Top 9 countries based on total investment amount they have received\n",
    "\n",
    "venture_df.groupby('country_code').sum().sort_values('raised_amount_usd',ascending=False).head(9)"
   ]
  },
  {
   "cell_type": "code",
   "execution_count": 47,
   "id": "330a78ca",
   "metadata": {},
   "outputs": [],
   "source": [
    "# Creating top9 dataframe which include only top nine countries based on the total investment amount each country \n",
    "# has received\n",
    "\n",
    "top9_index=venture_df.groupby('country_code').sum().sort_values('raised_amount_usd',ascending=False).head(9).index\n",
    "top9=venture_df[venture_df['country_code'].isin(top9_index)]"
   ]
  },
  {
   "cell_type": "markdown",
   "id": "cb86aad4",
   "metadata": {},
   "source": [
    "* Top English speaking country - **USA** <br>\n",
    "* Second English speaking country -\t **GBR** <br>\n",
    "* Third English speaking country -\t **IND**\n"
   ]
  },
  {
   "cell_type": "code",
   "execution_count": 48,
   "id": "bbdeb31c",
   "metadata": {},
   "outputs": [],
   "source": [
    "#filteting with Top 3 English Speaking Countries\n",
    "venture_top3_c=venture_df.loc[venture_df['country_code'].isin(['USA','GBR','IND'])]"
   ]
  },
  {
   "cell_type": "markdown",
   "id": "7e0531d2",
   "metadata": {},
   "source": [
    "-----"
   ]
  },
  {
   "cell_type": "markdown",
   "id": "291113fa",
   "metadata": {},
   "source": [
    "# Sector Analysis "
   ]
  },
  {
   "cell_type": "code",
   "execution_count": 49,
   "id": "1144f1d1",
   "metadata": {},
   "outputs": [],
   "source": [
    "#Extracting primary sector from category list\n",
    "venture_top3_c['primary_sector']=venture_top3_c['category_list'].str.split('|',expand=True)[0]"
   ]
  },
  {
   "cell_type": "markdown",
   "id": "252deccf",
   "metadata": {},
   "source": [
    "## Preparing Mapping"
   ]
  },
  {
   "cell_type": "code",
   "execution_count": 50,
   "id": "ad994de8",
   "metadata": {},
   "outputs": [],
   "source": [
    "mapping=pd.read_csv('data/mapping.csv')"
   ]
  },
  {
   "cell_type": "code",
   "execution_count": 51,
   "id": "cb33a82e",
   "metadata": {},
   "outputs": [
    {
     "name": "stdout",
     "output_type": "stream",
     "text": [
      "<class 'pandas.core.frame.DataFrame'>\n",
      "RangeIndex: 688 entries, 0 to 687\n",
      "Data columns (total 10 columns):\n",
      " #   Column                                   Non-Null Count  Dtype \n",
      "---  ------                                   --------------  ----- \n",
      " 0   category_list                            687 non-null    object\n",
      " 1   Automotive & Sports                      688 non-null    int64 \n",
      " 2   Blanks                                   688 non-null    int64 \n",
      " 3   Cleantech / Semiconductors               688 non-null    int64 \n",
      " 4   Entertainment                            688 non-null    int64 \n",
      " 5   Health                                   688 non-null    int64 \n",
      " 6   Manufacturing                            688 non-null    int64 \n",
      " 7   News, Search and Messaging               688 non-null    int64 \n",
      " 8   Others                                   688 non-null    int64 \n",
      " 9   Social, Finance, Analytics, Advertising  688 non-null    int64 \n",
      "dtypes: int64(9), object(1)\n",
      "memory usage: 53.9+ KB\n"
     ]
    }
   ],
   "source": [
    "mapping.info()"
   ]
  },
  {
   "cell_type": "code",
   "execution_count": 52,
   "id": "685a9f9f",
   "metadata": {},
   "outputs": [
    {
     "data": {
      "text/plain": [
       "category_list                              1\n",
       "Automotive & Sports                        0\n",
       "Blanks                                     0\n",
       "Cleantech / Semiconductors                 0\n",
       "Entertainment                              0\n",
       "Health                                     0\n",
       "Manufacturing                              0\n",
       "News, Search and Messaging                 0\n",
       "Others                                     0\n",
       "Social, Finance, Analytics, Advertising    0\n",
       "dtype: int64"
      ]
     },
     "execution_count": 52,
     "metadata": {},
     "output_type": "execute_result"
    }
   ],
   "source": [
    "mapping.isnull().sum()"
   ]
  },
  {
   "cell_type": "code",
   "execution_count": 53,
   "id": "f0fd0c7d",
   "metadata": {},
   "outputs": [],
   "source": [
    "#Changing 0 to na \n",
    "index=list(mapping[mapping['category_list'].str.contains('0.',na=False)].index)\n",
    "\n",
    "mapping['category_list']=np.where(mapping['category_list'].index.isin(index),     #condtion\n",
    "                                  mapping['category_list'].str.replace('0','na'), #if true\n",
    "                                  mapping['category_list'])                       #if false"
   ]
  },
  {
   "cell_type": "code",
   "execution_count": 54,
   "id": "4e772f9b",
   "metadata": {},
   "outputs": [],
   "source": [
    "#Mapping Main sector to category list \n",
    "\n",
    "mapping=mapping.melt('category_list',var_name='main_sector')\n",
    "mapping=mapping.loc[mapping['value']==1].sort_values('category_list')\n",
    "mapping.drop('value',axis=1,inplace=True)\n",
    "mapping.reset_index(drop=True,inplace=True)"
   ]
  },
  {
   "cell_type": "code",
   "execution_count": 55,
   "id": "b79323bf",
   "metadata": {},
   "outputs": [
    {
     "data": {
      "text/html": [
       "<div>\n",
       "<style scoped>\n",
       "    .dataframe tbody tr th:only-of-type {\n",
       "        vertical-align: middle;\n",
       "    }\n",
       "\n",
       "    .dataframe tbody tr th {\n",
       "        vertical-align: top;\n",
       "    }\n",
       "\n",
       "    .dataframe thead th {\n",
       "        text-align: right;\n",
       "    }\n",
       "</style>\n",
       "<table border=\"1\" class=\"dataframe\">\n",
       "  <thead>\n",
       "    <tr style=\"text-align: right;\">\n",
       "      <th></th>\n",
       "      <th>category_list</th>\n",
       "      <th>main_sector</th>\n",
       "    </tr>\n",
       "  </thead>\n",
       "  <tbody>\n",
       "    <tr>\n",
       "      <th>0</th>\n",
       "      <td>3D</td>\n",
       "      <td>Manufacturing</td>\n",
       "    </tr>\n",
       "    <tr>\n",
       "      <th>1</th>\n",
       "      <td>3D Printing</td>\n",
       "      <td>Manufacturing</td>\n",
       "    </tr>\n",
       "    <tr>\n",
       "      <th>2</th>\n",
       "      <td>3D Technology</td>\n",
       "      <td>Manufacturing</td>\n",
       "    </tr>\n",
       "    <tr>\n",
       "      <th>3</th>\n",
       "      <td>Accounting</td>\n",
       "      <td>Social, Finance, Analytics, Advertising</td>\n",
       "    </tr>\n",
       "    <tr>\n",
       "      <th>4</th>\n",
       "      <td>Active Lifestyle</td>\n",
       "      <td>Health</td>\n",
       "    </tr>\n",
       "    <tr>\n",
       "      <th>...</th>\n",
       "      <td>...</td>\n",
       "      <td>...</td>\n",
       "    </tr>\n",
       "    <tr>\n",
       "      <th>683</th>\n",
       "      <td>nanotechnology</td>\n",
       "      <td>Cleantech / Semiconductors</td>\n",
       "    </tr>\n",
       "    <tr>\n",
       "      <th>684</th>\n",
       "      <td>natural Language Processing</td>\n",
       "      <td>Cleantech / Semiconductors</td>\n",
       "    </tr>\n",
       "    <tr>\n",
       "      <th>685</th>\n",
       "      <td>natural Resources</td>\n",
       "      <td>Cleantech / Semiconductors</td>\n",
       "    </tr>\n",
       "    <tr>\n",
       "      <th>686</th>\n",
       "      <td>navigation</td>\n",
       "      <td>News, Search and Messaging</td>\n",
       "    </tr>\n",
       "    <tr>\n",
       "      <th>687</th>\n",
       "      <td>NaN</td>\n",
       "      <td>Blanks</td>\n",
       "    </tr>\n",
       "  </tbody>\n",
       "</table>\n",
       "<p>688 rows × 2 columns</p>\n",
       "</div>"
      ],
      "text/plain": [
       "                   category_list                              main_sector\n",
       "0                             3D                            Manufacturing\n",
       "1                    3D Printing                            Manufacturing\n",
       "2                  3D Technology                            Manufacturing\n",
       "3                     Accounting  Social, Finance, Analytics, Advertising\n",
       "4               Active Lifestyle                                   Health\n",
       "..                           ...                                      ...\n",
       "683               nanotechnology               Cleantech / Semiconductors\n",
       "684  natural Language Processing               Cleantech / Semiconductors\n",
       "685            natural Resources               Cleantech / Semiconductors\n",
       "686                   navigation               News, Search and Messaging\n",
       "687                          NaN                                   Blanks\n",
       "\n",
       "[688 rows x 2 columns]"
      ]
     },
     "execution_count": 55,
     "metadata": {},
     "output_type": "execute_result"
    }
   ],
   "source": [
    "mapping"
   ]
  },
  {
   "cell_type": "code",
   "execution_count": 56,
   "id": "4525556c",
   "metadata": {},
   "outputs": [],
   "source": [
    "# We don't require Blanks as Main Sector so we will remove all rows which contains Main Sector as Blank\n",
    "\n",
    "mapping=mapping[mapping['main_sector']!='Blanks']"
   ]
  },
  {
   "cell_type": "code",
   "execution_count": 57,
   "id": "3fc61922",
   "metadata": {},
   "outputs": [],
   "source": [
    "#Merging venture_top3_c with mapping\n",
    "\n",
    "D=venture_top3_c.merge(mapping,how='left',left_on='primary_sector',right_on='category_list').copy()"
   ]
  },
  {
   "cell_type": "code",
   "execution_count": 58,
   "id": "4ed067aa",
   "metadata": {},
   "outputs": [
    {
     "data": {
      "text/html": [
       "<div>\n",
       "<style scoped>\n",
       "    .dataframe tbody tr th:only-of-type {\n",
       "        vertical-align: middle;\n",
       "    }\n",
       "\n",
       "    .dataframe tbody tr th {\n",
       "        vertical-align: top;\n",
       "    }\n",
       "\n",
       "    .dataframe thead th {\n",
       "        text-align: right;\n",
       "    }\n",
       "</style>\n",
       "<table border=\"1\" class=\"dataframe\">\n",
       "  <thead>\n",
       "    <tr style=\"text-align: right;\">\n",
       "      <th></th>\n",
       "      <th>company_permalink</th>\n",
       "      <th>funding_round_permalink</th>\n",
       "      <th>funding_round_type</th>\n",
       "      <th>raised_amount_usd</th>\n",
       "      <th>name</th>\n",
       "      <th>homepage_url</th>\n",
       "      <th>country_code</th>\n",
       "      <th>primary_sector</th>\n",
       "      <th>main_sector</th>\n",
       "    </tr>\n",
       "  </thead>\n",
       "  <tbody>\n",
       "    <tr>\n",
       "      <th>0</th>\n",
       "      <td>/organization/-fame</td>\n",
       "      <td>/funding-round/9a01d05418af9f794eebff7ace91f638</td>\n",
       "      <td>venture</td>\n",
       "      <td>10000000.000</td>\n",
       "      <td>#fame</td>\n",
       "      <td>http://livfame.com</td>\n",
       "      <td>IND</td>\n",
       "      <td>Media</td>\n",
       "      <td>Entertainment</td>\n",
       "    </tr>\n",
       "    <tr>\n",
       "      <th>1</th>\n",
       "      <td>/organization/-qounter</td>\n",
       "      <td>/funding-round/22dacff496eb7acb2b901dec1dfe5633</td>\n",
       "      <td>venture</td>\n",
       "      <td>NaN</td>\n",
       "      <td>:Qounter</td>\n",
       "      <td>http://www.qounter.com</td>\n",
       "      <td>USA</td>\n",
       "      <td>Application Platforms</td>\n",
       "      <td>News, Search and Messaging</td>\n",
       "    </tr>\n",
       "    <tr>\n",
       "      <th>2</th>\n",
       "      <td>/organization/004-technologies</td>\n",
       "      <td>/funding-round/1278dd4e6a37fa4b7d7e06c21b3c1830</td>\n",
       "      <td>venture</td>\n",
       "      <td>NaN</td>\n",
       "      <td>004 Technologies</td>\n",
       "      <td>http://004gmbh.de/en/004-interact</td>\n",
       "      <td>USA</td>\n",
       "      <td>Software</td>\n",
       "      <td>Others</td>\n",
       "    </tr>\n",
       "    <tr>\n",
       "      <th>3</th>\n",
       "      <td>/organization/0xdata</td>\n",
       "      <td>/funding-round/3bb2ee4a2d89251a10aaa735b1180e44</td>\n",
       "      <td>venture</td>\n",
       "      <td>20000000.000</td>\n",
       "      <td>H2O.ai</td>\n",
       "      <td>http://h2o.ai/</td>\n",
       "      <td>USA</td>\n",
       "      <td>Analytics</td>\n",
       "      <td>Social, Finance, Analytics, Advertising</td>\n",
       "    </tr>\n",
       "    <tr>\n",
       "      <th>4</th>\n",
       "      <td>/organization/0xdata</td>\n",
       "      <td>/funding-round/ae2a174c06517c2394aed45006322a7e</td>\n",
       "      <td>venture</td>\n",
       "      <td>1700000.000</td>\n",
       "      <td>H2O.ai</td>\n",
       "      <td>http://h2o.ai/</td>\n",
       "      <td>USA</td>\n",
       "      <td>Analytics</td>\n",
       "      <td>Social, Finance, Analytics, Advertising</td>\n",
       "    </tr>\n",
       "    <tr>\n",
       "      <th>5</th>\n",
       "      <td>/organization/0xdata</td>\n",
       "      <td>/funding-round/e1cfcbe1bdf4c70277c5f29a3482f24e</td>\n",
       "      <td>venture</td>\n",
       "      <td>8900000.000</td>\n",
       "      <td>H2O.ai</td>\n",
       "      <td>http://h2o.ai/</td>\n",
       "      <td>USA</td>\n",
       "      <td>Analytics</td>\n",
       "      <td>Social, Finance, Analytics, Advertising</td>\n",
       "    </tr>\n",
       "    <tr>\n",
       "      <th>6</th>\n",
       "      <td>/organization/1-mainstream</td>\n",
       "      <td>/funding-round/b952cbaf401f310927430c97b68162ea</td>\n",
       "      <td>venture</td>\n",
       "      <td>5000000.000</td>\n",
       "      <td>1 Mainstream</td>\n",
       "      <td>http://www.1mainstream.com</td>\n",
       "      <td>USA</td>\n",
       "      <td>Apps</td>\n",
       "      <td>News, Search and Messaging</td>\n",
       "    </tr>\n",
       "    <tr>\n",
       "      <th>7</th>\n",
       "      <td>/organization/10-minutes-with</td>\n",
       "      <td>/funding-round/0faccbbcc5818dc5326469f13f5a8ac8</td>\n",
       "      <td>venture</td>\n",
       "      <td>4000000.000</td>\n",
       "      <td>10 Minutes With</td>\n",
       "      <td>http://10minuteswith.com</td>\n",
       "      <td>GBR</td>\n",
       "      <td>Education</td>\n",
       "      <td>Others</td>\n",
       "    </tr>\n",
       "    <tr>\n",
       "      <th>8</th>\n",
       "      <td>/organization/1000lookz</td>\n",
       "      <td>/funding-round/e07f6e580046d00c7aeb33fafb9d90a3</td>\n",
       "      <td>venture</td>\n",
       "      <td>NaN</td>\n",
       "      <td>1000Lookz</td>\n",
       "      <td>http://1000lookz.com</td>\n",
       "      <td>IND</td>\n",
       "      <td>Beauty</td>\n",
       "      <td>Health</td>\n",
       "    </tr>\n",
       "    <tr>\n",
       "      <th>9</th>\n",
       "      <td>/organization/1000memories</td>\n",
       "      <td>/funding-round/502bd0e50c27616995e4bdad24605ef8</td>\n",
       "      <td>venture</td>\n",
       "      <td>2520000.000</td>\n",
       "      <td>1000memories</td>\n",
       "      <td>http://1000memories.com</td>\n",
       "      <td>USA</td>\n",
       "      <td>Curated Web</td>\n",
       "      <td>News, Search and Messaging</td>\n",
       "    </tr>\n",
       "  </tbody>\n",
       "</table>\n",
       "</div>"
      ],
      "text/plain": [
       "                company_permalink  \\\n",
       "0             /organization/-fame   \n",
       "1          /organization/-qounter   \n",
       "2  /organization/004-technologies   \n",
       "3            /organization/0xdata   \n",
       "4            /organization/0xdata   \n",
       "5            /organization/0xdata   \n",
       "6      /organization/1-mainstream   \n",
       "7   /organization/10-minutes-with   \n",
       "8         /organization/1000lookz   \n",
       "9      /organization/1000memories   \n",
       "\n",
       "                           funding_round_permalink funding_round_type  \\\n",
       "0  /funding-round/9a01d05418af9f794eebff7ace91f638            venture   \n",
       "1  /funding-round/22dacff496eb7acb2b901dec1dfe5633            venture   \n",
       "2  /funding-round/1278dd4e6a37fa4b7d7e06c21b3c1830            venture   \n",
       "3  /funding-round/3bb2ee4a2d89251a10aaa735b1180e44            venture   \n",
       "4  /funding-round/ae2a174c06517c2394aed45006322a7e            venture   \n",
       "5  /funding-round/e1cfcbe1bdf4c70277c5f29a3482f24e            venture   \n",
       "6  /funding-round/b952cbaf401f310927430c97b68162ea            venture   \n",
       "7  /funding-round/0faccbbcc5818dc5326469f13f5a8ac8            venture   \n",
       "8  /funding-round/e07f6e580046d00c7aeb33fafb9d90a3            venture   \n",
       "9  /funding-round/502bd0e50c27616995e4bdad24605ef8            venture   \n",
       "\n",
       "   raised_amount_usd              name                       homepage_url  \\\n",
       "0       10000000.000             #fame                 http://livfame.com   \n",
       "1                NaN          :Qounter             http://www.qounter.com   \n",
       "2                NaN  004 Technologies  http://004gmbh.de/en/004-interact   \n",
       "3       20000000.000            H2O.ai                     http://h2o.ai/   \n",
       "4        1700000.000            H2O.ai                     http://h2o.ai/   \n",
       "5        8900000.000            H2O.ai                     http://h2o.ai/   \n",
       "6        5000000.000      1 Mainstream         http://www.1mainstream.com   \n",
       "7        4000000.000   10 Minutes With           http://10minuteswith.com   \n",
       "8                NaN         1000Lookz               http://1000lookz.com   \n",
       "9        2520000.000      1000memories            http://1000memories.com   \n",
       "\n",
       "  country_code         primary_sector                              main_sector  \n",
       "0          IND                  Media                            Entertainment  \n",
       "1          USA  Application Platforms               News, Search and Messaging  \n",
       "2          USA               Software                                   Others  \n",
       "3          USA              Analytics  Social, Finance, Analytics, Advertising  \n",
       "4          USA              Analytics  Social, Finance, Analytics, Advertising  \n",
       "5          USA              Analytics  Social, Finance, Analytics, Advertising  \n",
       "6          USA                   Apps               News, Search and Messaging  \n",
       "7          GBR              Education                                   Others  \n",
       "8          IND                 Beauty                                   Health  \n",
       "9          USA            Curated Web               News, Search and Messaging  "
      ]
     },
     "execution_count": 58,
     "metadata": {},
     "output_type": "execute_result"
    }
   ],
   "source": [
    "#Dropping category_list_x and _y\n",
    "\n",
    "D.drop(['category_list_x','category_list_y'],axis=1,inplace=True)\n",
    "\n",
    "D.head(10)"
   ]
  },
  {
   "cell_type": "code",
   "execution_count": 59,
   "id": "8e40a586",
   "metadata": {},
   "outputs": [],
   "source": [
    "#Selecting rows only whose raised amount in between 5 to 15 Million\n",
    "D=D.loc[(D['raised_amount_usd']>=5000000) & (D['raised_amount_usd']<=15000000)]\n",
    "\n",
    "#Renaming country code USA, GBR and IND to Country 1, Country 2 and Country 3 respectively\n",
    "D['country_code']=np.where(D['country_code']=='USA','Country 1',D['country_code'])\n",
    "D['country_code']=np.where(D['country_code']=='GBR','Country 2',D['country_code'])\n",
    "D['country_code']=np.where(D['country_code']=='IND','Country 3',D['country_code'])\n",
    "\n",
    "#Renaming funding type to FT\n",
    "D['funding_round_type']='FT'\n",
    "\n",
    "#Creating 3 separate dataframe based on Country 1, Country 2 and Country 3\n",
    "D1=D.loc[D['country_code']=='Country 1']\n",
    "D2=D.loc[D['country_code']=='Country 2']\n",
    "D3=D.loc[D['country_code']=='Country 3']"
   ]
  },
  {
   "cell_type": "markdown",
   "id": "8b096ee8",
   "metadata": {},
   "source": [
    "Ensuring that all above conditions have successfully executed i.e range should be within 5 to 15 million and the country code should be renamed."
   ]
  },
  {
   "cell_type": "code",
   "execution_count": 60,
   "id": "415e986b",
   "metadata": {},
   "outputs": [
    {
     "data": {
      "text/plain": [
       "count      13108.000\n",
       "mean     8921630.657\n",
       "std      3071639.347\n",
       "min      5000000.000\n",
       "25%      6000001.000\n",
       "50%      8300000.000\n",
       "75%     11000000.000\n",
       "max     15000000.000\n",
       "Name: raised_amount_usd, dtype: float64"
      ]
     },
     "execution_count": 60,
     "metadata": {},
     "output_type": "execute_result"
    }
   ],
   "source": [
    "D['raised_amount_usd'].describe()"
   ]
  },
  {
   "cell_type": "code",
   "execution_count": 61,
   "id": "99a26f0a",
   "metadata": {},
   "outputs": [
    {
     "data": {
      "text/plain": [
       "array(['Country 3', 'Country 1', 'Country 2'], dtype=object)"
      ]
     },
     "execution_count": 61,
     "metadata": {},
     "output_type": "execute_result"
    }
   ],
   "source": [
    "D['country_code'].unique()"
   ]
  },
  {
   "cell_type": "code",
   "execution_count": 62,
   "id": "2cb4fb04",
   "metadata": {},
   "outputs": [
    {
     "name": "stdout",
     "output_type": "stream",
     "text": [
      "Country 1 Total Number of Investments :  12150\n",
      "Country 2 Total Number of Investments :  628\n",
      "Country 3 Total Number of Investments :  330\n"
     ]
    }
   ],
   "source": [
    "# printing total number of investment in each 3 countries\n",
    "\n",
    "print('Country 1 Total Number of Investments : ',D1['raised_amount_usd'].count())\n",
    "print('Country 2 Total Number of Investments : ',D2['raised_amount_usd'].count())\n",
    "print('Country 3 Total Number of Investments : ',D3['raised_amount_usd'].count())"
   ]
  },
  {
   "cell_type": "code",
   "execution_count": 63,
   "id": "79145baa",
   "metadata": {},
   "outputs": [
    {
     "name": "stdout",
     "output_type": "stream",
     "text": [
      "Country 1 Total Amount of Investments :  108531347515000000\n",
      "Country 2 Total Amount of Investments :  5436843539000000\n",
      "Country 3 Total Amount of Investments :  2976543602000000\n"
     ]
    }
   ],
   "source": [
    "# printing total amount of investment in each 3 countries\n",
    "\n",
    "print('Country 1 Total Amount of Investments : ',round(D1['raised_amount_usd'].sum()*1000000))\n",
    "print('Country 2 Total Amount of Investments : ',round(D2['raised_amount_usd'].sum()*1000000))\n",
    "print('Country 3 Total Amount of Investments : ',round(D3['raised_amount_usd'].sum()*1000000))"
   ]
  },
  {
   "cell_type": "code",
   "execution_count": 76,
   "id": "e040cb0d",
   "metadata": {},
   "outputs": [
    {
     "data": {
      "text/html": [
       "<style  type=\"text/css\" >\n",
       "#T_d02b7_row0_col0,#T_d02b7_row0_col2,#T_d02b7_row0_col3,#T_d02b7_row0_col4,#T_d02b7_row0_col7,#T_d02b7_row1_col3,#T_d02b7_row1_col7,#T_d02b7_row2_col1,#T_d02b7_row2_col3,#T_d02b7_row2_col4,#T_d02b7_row2_col5,#T_d02b7_row2_col6,#T_d02b7_row2_col7,#T_d02b7_row3_col3,#T_d02b7_row3_col7,#T_d02b7_row4_col3,#T_d02b7_row4_col7,#T_d02b7_row5_col3,#T_d02b7_row5_col4,#T_d02b7_row5_col5,#T_d02b7_row5_col7,#T_d02b7_row6_col3,#T_d02b7_row6_col4,#T_d02b7_row6_col7,#T_d02b7_row7_col3,#T_d02b7_row7_col4,#T_d02b7_row7_col5,#T_d02b7_row7_col7{\n",
       "            background-color:  #f7fcf5;\n",
       "            color:  #000000;\n",
       "        }#T_d02b7_row0_col1{\n",
       "            background-color:  #e3f4de;\n",
       "            color:  #000000;\n",
       "        }#T_d02b7_row0_col5{\n",
       "            background-color:  #d8f0d2;\n",
       "            color:  #000000;\n",
       "        }#T_d02b7_row0_col6{\n",
       "            background-color:  #b0dfaa;\n",
       "            color:  #000000;\n",
       "        }#T_d02b7_row1_col0{\n",
       "            background-color:  #1e8741;\n",
       "            color:  #000000;\n",
       "        }#T_d02b7_row1_col1,#T_d02b7_row1_col2,#T_d02b7_row1_col4,#T_d02b7_row1_col5,#T_d02b7_row1_col6,#T_d02b7_row6_col0{\n",
       "            background-color:  #00441b;\n",
       "            color:  #f1f1f1;\n",
       "        }#T_d02b7_row2_col0,#T_d02b7_row7_col6{\n",
       "            background-color:  #def2d9;\n",
       "            color:  #000000;\n",
       "        }#T_d02b7_row2_col2{\n",
       "            background-color:  #4eb264;\n",
       "            color:  #000000;\n",
       "        }#T_d02b7_row3_col0{\n",
       "            background-color:  #c2e7bb;\n",
       "            color:  #000000;\n",
       "        }#T_d02b7_row3_col1{\n",
       "            background-color:  #329b51;\n",
       "            color:  #000000;\n",
       "        }#T_d02b7_row3_col2{\n",
       "            background-color:  #0a7633;\n",
       "            color:  #f1f1f1;\n",
       "        }#T_d02b7_row3_col4{\n",
       "            background-color:  #d3eecd;\n",
       "            color:  #000000;\n",
       "        }#T_d02b7_row3_col5{\n",
       "            background-color:  #4bb062;\n",
       "            color:  #000000;\n",
       "        }#T_d02b7_row3_col6{\n",
       "            background-color:  #79c67a;\n",
       "            color:  #000000;\n",
       "        }#T_d02b7_row4_col0,#T_d02b7_row5_col6{\n",
       "            background-color:  #ccebc6;\n",
       "            color:  #000000;\n",
       "        }#T_d02b7_row4_col1{\n",
       "            background-color:  #1d8640;\n",
       "            color:  #000000;\n",
       "        }#T_d02b7_row4_col2{\n",
       "            background-color:  #ceecc8;\n",
       "            color:  #000000;\n",
       "        }#T_d02b7_row4_col4{\n",
       "            background-color:  #004a1e;\n",
       "            color:  #f1f1f1;\n",
       "        }#T_d02b7_row4_col5{\n",
       "            background-color:  #157f3b;\n",
       "            color:  #f1f1f1;\n",
       "        }#T_d02b7_row4_col6{\n",
       "            background-color:  #8dd08a;\n",
       "            color:  #000000;\n",
       "        }#T_d02b7_row5_col0{\n",
       "            background-color:  #70c274;\n",
       "            color:  #000000;\n",
       "        }#T_d02b7_row5_col1{\n",
       "            background-color:  #afdfa8;\n",
       "            color:  #000000;\n",
       "        }#T_d02b7_row5_col2{\n",
       "            background-color:  #3aa357;\n",
       "            color:  #000000;\n",
       "        }#T_d02b7_row6_col1{\n",
       "            background-color:  #75c477;\n",
       "            color:  #000000;\n",
       "        }#T_d02b7_row6_col2{\n",
       "            background-color:  #3fa85b;\n",
       "            color:  #000000;\n",
       "        }#T_d02b7_row6_col5{\n",
       "            background-color:  #c7e9c0;\n",
       "            color:  #000000;\n",
       "        }#T_d02b7_row6_col6{\n",
       "            background-color:  #a7dba0;\n",
       "            color:  #000000;\n",
       "        }#T_d02b7_row7_col0{\n",
       "            background-color:  #005f26;\n",
       "            color:  #f1f1f1;\n",
       "        }#T_d02b7_row7_col1{\n",
       "            background-color:  #c9eac2;\n",
       "            color:  #000000;\n",
       "        }#T_d02b7_row7_col2{\n",
       "            background-color:  #369f54;\n",
       "            color:  #000000;\n",
       "        }</style><table id=\"T_d02b7_\" ><thead>    <tr>        <th class=\"blank level0\" ></th>        <th class=\"col_heading level0 col0\" colspan=\"8\">raised_amount_usd</th>    </tr>    <tr>        <th class=\"blank level1\" ></th>        <th class=\"col_heading level1 col0\" >count</th>        <th class=\"col_heading level1 col1\" >mean</th>        <th class=\"col_heading level1 col2\" >std</th>        <th class=\"col_heading level1 col3\" >min</th>        <th class=\"col_heading level1 col4\" >25%</th>        <th class=\"col_heading level1 col5\" >50%</th>        <th class=\"col_heading level1 col6\" >75%</th>        <th class=\"col_heading level1 col7\" >max</th>    </tr>    <tr>        <th class=\"index_name level0\" >main_sector</th>        <th class=\"blank\" ></th>        <th class=\"blank\" ></th>        <th class=\"blank\" ></th>        <th class=\"blank\" ></th>        <th class=\"blank\" ></th>        <th class=\"blank\" ></th>        <th class=\"blank\" ></th>        <th class=\"blank\" ></th>    </tr></thead><tbody>\n",
       "                <tr>\n",
       "                        <th id=\"T_d02b7_level0_row0\" class=\"row_heading level0 row0\" >Automotive & Sports</th>\n",
       "                        <td id=\"T_d02b7_row0_col0\" class=\"data row0 col0\" >167</td>\n",
       "                        <td id=\"T_d02b7_row0_col1\" class=\"data row0 col1\" >8707212</td>\n",
       "                        <td id=\"T_d02b7_row0_col2\" class=\"data row0 col2\" >2981831</td>\n",
       "                        <td id=\"T_d02b7_row0_col3\" class=\"data row0 col3\" >5000000</td>\n",
       "                        <td id=\"T_d02b7_row0_col4\" class=\"data row0 col4\" >6000000</td>\n",
       "                        <td id=\"T_d02b7_row0_col5\" class=\"data row0 col5\" >8181488</td>\n",
       "                        <td id=\"T_d02b7_row0_col6\" class=\"data row0 col6\" >10950000</td>\n",
       "                        <td id=\"T_d02b7_row0_col7\" class=\"data row0 col7\" >15000000</td>\n",
       "            </tr>\n",
       "            <tr>\n",
       "                        <th id=\"T_d02b7_level0_row1\" class=\"row_heading level0 row1\" >Cleantech / Semiconductors</th>\n",
       "                        <td id=\"T_d02b7_row1_col0\" class=\"data row1 col0\" >2300</td>\n",
       "                        <td id=\"T_d02b7_row1_col1\" class=\"data row1 col1\" >9220273</td>\n",
       "                        <td id=\"T_d02b7_row1_col2\" class=\"data row1 col2\" >3110482</td>\n",
       "                        <td id=\"T_d02b7_row1_col3\" class=\"data row1 col3\" >5000000</td>\n",
       "                        <td id=\"T_d02b7_row1_col4\" class=\"data row1 col4\" >6500000</td>\n",
       "                        <td id=\"T_d02b7_row1_col5\" class=\"data row1 col5\" >9000000</td>\n",
       "                        <td id=\"T_d02b7_row1_col6\" class=\"data row1 col6\" >11990022</td>\n",
       "                        <td id=\"T_d02b7_row1_col7\" class=\"data row1 col7\" >15000000</td>\n",
       "            </tr>\n",
       "            <tr>\n",
       "                        <th id=\"T_d02b7_level0_row2\" class=\"row_heading level0 row2\" >Entertainment</th>\n",
       "                        <td id=\"T_d02b7_row2_col0\" class=\"data row2 col0\" >591</td>\n",
       "                        <td id=\"T_d02b7_row2_col1\" class=\"data row2 col1\" >8628085</td>\n",
       "                        <td id=\"T_d02b7_row2_col2\" class=\"data row2 col2\" >3058181</td>\n",
       "                        <td id=\"T_d02b7_row2_col3\" class=\"data row2 col3\" >5000000</td>\n",
       "                        <td id=\"T_d02b7_row2_col4\" class=\"data row2 col4\" >6000000</td>\n",
       "                        <td id=\"T_d02b7_row2_col5\" class=\"data row2 col5\" >8000000</td>\n",
       "                        <td id=\"T_d02b7_row2_col6\" class=\"data row2 col6\" >10450000</td>\n",
       "                        <td id=\"T_d02b7_row2_col7\" class=\"data row2 col7\" >15000000</td>\n",
       "            </tr>\n",
       "            <tr>\n",
       "                        <th id=\"T_d02b7_level0_row3\" class=\"row_heading level0 row3\" >Health</th>\n",
       "                        <td id=\"T_d02b7_row3_col0\" class=\"data row3 col0\" >909</td>\n",
       "                        <td id=\"T_d02b7_row3_col1\" class=\"data row3 col1\" >9033949</td>\n",
       "                        <td id=\"T_d02b7_row3_col2\" class=\"data row3 col2\" >3089421</td>\n",
       "                        <td id=\"T_d02b7_row3_col3\" class=\"data row3 col3\" >5000000</td>\n",
       "                        <td id=\"T_d02b7_row3_col4\" class=\"data row3 col4\" >6100007</td>\n",
       "                        <td id=\"T_d02b7_row3_col5\" class=\"data row3 col5\" >8600000</td>\n",
       "                        <td id=\"T_d02b7_row3_col6\" class=\"data row3 col6\" >11200000</td>\n",
       "                        <td id=\"T_d02b7_row3_col7\" class=\"data row3 col7\" >15000000</td>\n",
       "            </tr>\n",
       "            <tr>\n",
       "                        <th id=\"T_d02b7_level0_row4\" class=\"row_heading level0 row4\" >Manufacturing</th>\n",
       "                        <td id=\"T_d02b7_row4_col0\" class=\"data row4 col0\" >799</td>\n",
       "                        <td id=\"T_d02b7_row4_col1\" class=\"data row4 col1\" >9084547</td>\n",
       "                        <td id=\"T_d02b7_row4_col2\" class=\"data row4 col2\" >3010014</td>\n",
       "                        <td id=\"T_d02b7_row4_col3\" class=\"data row4 col3\" >5000000</td>\n",
       "                        <td id=\"T_d02b7_row4_col4\" class=\"data row4 col4\" >6490000</td>\n",
       "                        <td id=\"T_d02b7_row4_col5\" class=\"data row4 col5\" >8800000</td>\n",
       "                        <td id=\"T_d02b7_row4_col6\" class=\"data row4 col6\" >11112496</td>\n",
       "                        <td id=\"T_d02b7_row4_col7\" class=\"data row4 col7\" >15000000</td>\n",
       "            </tr>\n",
       "            <tr>\n",
       "                        <th id=\"T_d02b7_level0_row5\" class=\"row_heading level0 row5\" >News, Search and Messaging</th>\n",
       "                        <td id=\"T_d02b7_row5_col0\" class=\"data row5 col0\" >1582</td>\n",
       "                        <td id=\"T_d02b7_row5_col1\" class=\"data row5 col1\" >8824000</td>\n",
       "                        <td id=\"T_d02b7_row5_col2\" class=\"data row5 col2\" >3066099</td>\n",
       "                        <td id=\"T_d02b7_row5_col3\" class=\"data row5 col3\" >5000000</td>\n",
       "                        <td id=\"T_d02b7_row5_col4\" class=\"data row5 col4\" >6000000</td>\n",
       "                        <td id=\"T_d02b7_row5_col5\" class=\"data row5 col5\" >8000000</td>\n",
       "                        <td id=\"T_d02b7_row5_col6\" class=\"data row5 col6\" >10800000</td>\n",
       "                        <td id=\"T_d02b7_row5_col7\" class=\"data row5 col7\" >15000000</td>\n",
       "            </tr>\n",
       "            <tr>\n",
       "                        <th id=\"T_d02b7_level0_row6\" class=\"row_heading level0 row6\" >Others</th>\n",
       "                        <td id=\"T_d02b7_row6_col0\" class=\"data row6 col0\" >2950</td>\n",
       "                        <td id=\"T_d02b7_row6_col1\" class=\"data row6 col1\" >8922375</td>\n",
       "                        <td id=\"T_d02b7_row6_col2\" class=\"data row6 col2\" >3063264</td>\n",
       "                        <td id=\"T_d02b7_row6_col3\" class=\"data row6 col3\" >5000000</td>\n",
       "                        <td id=\"T_d02b7_row6_col4\" class=\"data row6 col4\" >6000000</td>\n",
       "                        <td id=\"T_d02b7_row6_col5\" class=\"data row6 col5\" >8250000</td>\n",
       "                        <td id=\"T_d02b7_row6_col6\" class=\"data row6 col6\" >11000000</td>\n",
       "                        <td id=\"T_d02b7_row6_col7\" class=\"data row6 col7\" >15000000</td>\n",
       "            </tr>\n",
       "            <tr>\n",
       "                        <th id=\"T_d02b7_level0_row7\" class=\"row_heading level0 row7\" >Social, Finance, Analytics, Advertising</th>\n",
       "                        <td id=\"T_d02b7_row7_col0\" class=\"data row7 col0\" >2714</td>\n",
       "                        <td id=\"T_d02b7_row7_col1\" class=\"data row7 col1\" >8772062</td>\n",
       "                        <td id=\"T_d02b7_row7_col2\" class=\"data row7 col2\" >3068090</td>\n",
       "                        <td id=\"T_d02b7_row7_col3\" class=\"data row7 col3\" >5000000</td>\n",
       "                        <td id=\"T_d02b7_row7_col4\" class=\"data row7 col4\" >6000000</td>\n",
       "                        <td id=\"T_d02b7_row7_col5\" class=\"data row7 col5\" >8000000</td>\n",
       "                        <td id=\"T_d02b7_row7_col6\" class=\"data row7 col6\" >10685172</td>\n",
       "                        <td id=\"T_d02b7_row7_col7\" class=\"data row7 col7\" >15000000</td>\n",
       "            </tr>\n",
       "    </tbody></table>"
      ],
      "text/plain": [
       "<pandas.io.formats.style.Styler at 0x1ad00a71dc0>"
      ]
     },
     "execution_count": 76,
     "metadata": {},
     "output_type": "execute_result"
    }
   ],
   "source": [
    "D1.groupby('main_sector').describe().style.background_gradient(cmap='Greens',axis=0).set_precision(0)"
   ]
  },
  {
   "cell_type": "markdown",
   "id": "dddc7817",
   "metadata": {},
   "source": [
    "\n",
    "As per above table we can conclude this:\n",
    "\n",
    "|Country 1  | Sector Name | No. of Investment |\n",
    "| --- | --- | --- |\n",
    "| 1| Others | 2950 |\n",
    "| 2| Social, Finance, Analytics, Advertising | 2714 |\n",
    "| 3| Cleantech / Semiconductors | 2300 |\n",
    "\n",
    "-----\n"
   ]
  },
  {
   "cell_type": "code",
   "execution_count": 65,
   "id": "47a0db49",
   "metadata": {},
   "outputs": [
    {
     "data": {
      "text/html": [
       "<style  type=\"text/css\" >\n",
       "#T_bae25_row0_col0,#T_bae25_row1_col3,#T_bae25_row2_col3,#T_bae25_row3_col3,#T_bae25_row3_col7,#T_bae25_row4_col3,#T_bae25_row4_col6,#T_bae25_row5_col2,#T_bae25_row5_col3,#T_bae25_row5_col5,#T_bae25_row5_col6,#T_bae25_row6_col3,#T_bae25_row7_col1,#T_bae25_row7_col3,#T_bae25_row7_col4,#T_bae25_row7_col6{\n",
       "            background-color:  #ffffff;\n",
       "            color:  #000000;\n",
       "        }#T_bae25_row0_col1,#T_bae25_row0_col2,#T_bae25_row0_col3,#T_bae25_row0_col4,#T_bae25_row0_col5,#T_bae25_row0_col6,#T_bae25_row0_col7,#T_bae25_row1_col7,#T_bae25_row2_col7,#T_bae25_row4_col7,#T_bae25_row5_col7,#T_bae25_row6_col0,#T_bae25_row6_col7,#T_bae25_row7_col7{\n",
       "            background-color:  #000000;\n",
       "            color:  #f1f1f1;\n",
       "        }#T_bae25_row1_col0{\n",
       "            background-color:  #2c2c2c;\n",
       "            color:  #f1f1f1;\n",
       "        }#T_bae25_row1_col1{\n",
       "            background-color:  #c2c2c2;\n",
       "            color:  #000000;\n",
       "        }#T_bae25_row1_col2{\n",
       "            background-color:  #b8b8b8;\n",
       "            color:  #000000;\n",
       "        }#T_bae25_row1_col4{\n",
       "            background-color:  #ebebeb;\n",
       "            color:  #000000;\n",
       "        }#T_bae25_row1_col5{\n",
       "            background-color:  #d4d4d4;\n",
       "            color:  #000000;\n",
       "        }#T_bae25_row1_col6{\n",
       "            background-color:  #909090;\n",
       "            color:  #000000;\n",
       "        }#T_bae25_row2_col0{\n",
       "            background-color:  #cccccc;\n",
       "            color:  #000000;\n",
       "        }#T_bae25_row2_col1,#T_bae25_row4_col1,#T_bae25_row6_col4{\n",
       "            background-color:  #e4e4e4;\n",
       "            color:  #000000;\n",
       "        }#T_bae25_row2_col2{\n",
       "            background-color:  #fafafa;\n",
       "            color:  #000000;\n",
       "        }#T_bae25_row2_col4{\n",
       "            background-color:  #fdfdfd;\n",
       "            color:  #000000;\n",
       "        }#T_bae25_row2_col5{\n",
       "            background-color:  #d1d1d1;\n",
       "            color:  #000000;\n",
       "        }#T_bae25_row2_col6,#T_bae25_row3_col5{\n",
       "            background-color:  #f4f4f4;\n",
       "            color:  #000000;\n",
       "        }#T_bae25_row3_col0,#T_bae25_row7_col5{\n",
       "            background-color:  #f8f8f8;\n",
       "            color:  #000000;\n",
       "        }#T_bae25_row3_col1{\n",
       "            background-color:  #c6c6c6;\n",
       "            color:  #000000;\n",
       "        }#T_bae25_row3_col2{\n",
       "            background-color:  #686868;\n",
       "            color:  #f1f1f1;\n",
       "        }#T_bae25_row3_col4{\n",
       "            background-color:  #dadada;\n",
       "            color:  #000000;\n",
       "        }#T_bae25_row3_col6{\n",
       "            background-color:  #949494;\n",
       "            color:  #000000;\n",
       "        }#T_bae25_row4_col0{\n",
       "            background-color:  #e3e3e3;\n",
       "            color:  #000000;\n",
       "        }#T_bae25_row4_col2{\n",
       "            background-color:  #ececec;\n",
       "            color:  #000000;\n",
       "        }#T_bae25_row4_col4{\n",
       "            background-color:  #bebebe;\n",
       "            color:  #000000;\n",
       "        }#T_bae25_row4_col5{\n",
       "            background-color:  #efefef;\n",
       "            color:  #000000;\n",
       "        }#T_bae25_row5_col0{\n",
       "            background-color:  #aaaaaa;\n",
       "            color:  #000000;\n",
       "        }#T_bae25_row5_col1{\n",
       "            background-color:  #f2f2f2;\n",
       "            color:  #000000;\n",
       "        }#T_bae25_row5_col4{\n",
       "            background-color:  #f3f3f3;\n",
       "            color:  #000000;\n",
       "        }#T_bae25_row6_col1{\n",
       "            background-color:  #dbdbdb;\n",
       "            color:  #000000;\n",
       "        }#T_bae25_row6_col2{\n",
       "            background-color:  #ababab;\n",
       "            color:  #000000;\n",
       "        }#T_bae25_row6_col5{\n",
       "            background-color:  #eeeeee;\n",
       "            color:  #000000;\n",
       "        }#T_bae25_row6_col6{\n",
       "            background-color:  #ededed;\n",
       "            color:  #000000;\n",
       "        }#T_bae25_row7_col0{\n",
       "            background-color:  #1f1f1f;\n",
       "            color:  #f1f1f1;\n",
       "        }#T_bae25_row7_col2{\n",
       "            background-color:  #f1f1f1;\n",
       "            color:  #000000;\n",
       "        }</style><table id=\"T_bae25_\" ><thead>    <tr>        <th class=\"blank level0\" ></th>        <th class=\"col_heading level0 col0\" colspan=\"8\">raised_amount_usd</th>    </tr>    <tr>        <th class=\"blank level1\" ></th>        <th class=\"col_heading level1 col0\" >count</th>        <th class=\"col_heading level1 col1\" >mean</th>        <th class=\"col_heading level1 col2\" >std</th>        <th class=\"col_heading level1 col3\" >min</th>        <th class=\"col_heading level1 col4\" >25%</th>        <th class=\"col_heading level1 col5\" >50%</th>        <th class=\"col_heading level1 col6\" >75%</th>        <th class=\"col_heading level1 col7\" >max</th>    </tr>    <tr>        <th class=\"index_name level0\" >main_sector</th>        <th class=\"blank\" ></th>        <th class=\"blank\" ></th>        <th class=\"blank\" ></th>        <th class=\"blank\" ></th>        <th class=\"blank\" ></th>        <th class=\"blank\" ></th>        <th class=\"blank\" ></th>        <th class=\"blank\" ></th>    </tr></thead><tbody>\n",
       "                <tr>\n",
       "                        <th id=\"T_bae25_level0_row0\" class=\"row_heading level0 row0\" >Automotive & Sports</th>\n",
       "                        <td id=\"T_bae25_row0_col0\" class=\"data row0 col0\" >16</td>\n",
       "                        <td id=\"T_bae25_row0_col1\" class=\"data row0 col1\" >10440723</td>\n",
       "                        <td id=\"T_bae25_row0_col2\" class=\"data row0 col2\" >3371176</td>\n",
       "                        <td id=\"T_bae25_row0_col3\" class=\"data row0 col3\" >5133089</td>\n",
       "                        <td id=\"T_bae25_row0_col4\" class=\"data row0 col4\" >7489753</td>\n",
       "                        <td id=\"T_bae25_row0_col5\" class=\"data row0 col5\" >10945000</td>\n",
       "                        <td id=\"T_bae25_row0_col6\" class=\"data row0 col6\" >13000000</td>\n",
       "                        <td id=\"T_bae25_row0_col7\" class=\"data row0 col7\" >15000000</td>\n",
       "            </tr>\n",
       "            <tr>\n",
       "                        <th id=\"T_bae25_level0_row1\" class=\"row_heading level0 row1\" >Cleantech / Semiconductors</th>\n",
       "                        <td id=\"T_bae25_row1_col0\" class=\"data row1 col0\" >128</td>\n",
       "                        <td id=\"T_bae25_row1_col1\" class=\"data row1 col1\" >8985466</td>\n",
       "                        <td id=\"T_bae25_row1_col2\" class=\"data row1 col2\" >2938918</td>\n",
       "                        <td id=\"T_bae25_row1_col3\" class=\"data row1 col3\" >5000000</td>\n",
       "                        <td id=\"T_bae25_row1_col4\" class=\"data row1 col4\" >6159318</td>\n",
       "                        <td id=\"T_bae25_row1_col5\" class=\"data row1 col5\" >8460000</td>\n",
       "                        <td id=\"T_bae25_row1_col6\" class=\"data row1 col6\" >11560439</td>\n",
       "                        <td id=\"T_bae25_row1_col7\" class=\"data row1 col7\" >15000000</td>\n",
       "            </tr>\n",
       "            <tr>\n",
       "                        <th id=\"T_bae25_level0_row2\" class=\"row_heading level0 row2\" >Entertainment</th>\n",
       "                        <td id=\"T_bae25_row2_col0\" class=\"data row2 col0\" >56</td>\n",
       "                        <td id=\"T_bae25_row2_col1\" class=\"data row2 col1\" >8621155</td>\n",
       "                        <td id=\"T_bae25_row2_col2\" class=\"data row2 col2\" >2692381</td>\n",
       "                        <td id=\"T_bae25_row2_col3\" class=\"data row2 col3\" >5000000</td>\n",
       "                        <td id=\"T_bae25_row2_col4\" class=\"data row2 col4\" >5950000</td>\n",
       "                        <td id=\"T_bae25_row2_col5\" class=\"data row2 col5\" >8502954</td>\n",
       "                        <td id=\"T_bae25_row2_col6\" class=\"data row2 col6\" >10287972</td>\n",
       "                        <td id=\"T_bae25_row2_col7\" class=\"data row2 col7\" >15000000</td>\n",
       "            </tr>\n",
       "            <tr>\n",
       "                        <th id=\"T_bae25_level0_row3\" class=\"row_heading level0 row3\" >Health</th>\n",
       "                        <td id=\"T_bae25_row3_col0\" class=\"data row3 col0\" >24</td>\n",
       "                        <td id=\"T_bae25_row3_col1\" class=\"data row3 col1\" >8939063</td>\n",
       "                        <td id=\"T_bae25_row3_col2\" class=\"data row3 col2\" >3133502</td>\n",
       "                        <td id=\"T_bae25_row3_col3\" class=\"data row3 col3\" >5000000</td>\n",
       "                        <td id=\"T_bae25_row3_col4\" class=\"data row3 col4\" >6299424</td>\n",
       "                        <td id=\"T_bae25_row3_col5\" class=\"data row3 col5\" >7846072</td>\n",
       "                        <td id=\"T_bae25_row3_col6\" class=\"data row3 col6\" >11512082</td>\n",
       "                        <td id=\"T_bae25_row3_col7\" class=\"data row3 col7\" >14300000</td>\n",
       "            </tr>\n",
       "            <tr>\n",
       "                        <th id=\"T_bae25_level0_row4\" class=\"row_heading level0 row4\" >Manufacturing</th>\n",
       "                        <td id=\"T_bae25_row4_col0\" class=\"data row4 col0\" >42</td>\n",
       "                        <td id=\"T_bae25_row4_col1\" class=\"data row4 col1\" >8617627</td>\n",
       "                        <td id=\"T_bae25_row4_col2\" class=\"data row4 col2\" >2762393</td>\n",
       "                        <td id=\"T_bae25_row4_col3\" class=\"data row4 col3\" >5000000</td>\n",
       "                        <td id=\"T_bae25_row4_col4\" class=\"data row4 col4\" >6500000</td>\n",
       "                        <td id=\"T_bae25_row4_col5\" class=\"data row4 col5\" >7965208</td>\n",
       "                        <td id=\"T_bae25_row4_col6\" class=\"data row4 col6\" >10000000</td>\n",
       "                        <td id=\"T_bae25_row4_col7\" class=\"data row4 col7\" >15000000</td>\n",
       "            </tr>\n",
       "            <tr>\n",
       "                        <th id=\"T_bae25_level0_row5\" class=\"row_heading level0 row5\" >News, Search and Messaging</th>\n",
       "                        <td id=\"T_bae25_row5_col0\" class=\"data row5 col0\" >73</td>\n",
       "                        <td id=\"T_bae25_row5_col1\" class=\"data row5 col1\" >8434880</td>\n",
       "                        <td id=\"T_bae25_row5_col2\" class=\"data row5 col2\" >2659225</td>\n",
       "                        <td id=\"T_bae25_row5_col3\" class=\"data row5 col3\" >5000000</td>\n",
       "                        <td id=\"T_bae25_row5_col4\" class=\"data row5 col4\" >6080000</td>\n",
       "                        <td id=\"T_bae25_row5_col5\" class=\"data row5 col5\" >7520000</td>\n",
       "                        <td id=\"T_bae25_row5_col6\" class=\"data row5 col6\" >10000000</td>\n",
       "                        <td id=\"T_bae25_row5_col7\" class=\"data row5 col7\" >15000000</td>\n",
       "            </tr>\n",
       "            <tr>\n",
       "                        <th id=\"T_bae25_level0_row6\" class=\"row_heading level0 row6\" >Others</th>\n",
       "                        <td id=\"T_bae25_row6_col0\" class=\"data row6 col0\" >147</td>\n",
       "                        <td id=\"T_bae25_row6_col1\" class=\"data row6 col1\" >8732138</td>\n",
       "                        <td id=\"T_bae25_row6_col2\" class=\"data row6 col2\" >2966282</td>\n",
       "                        <td id=\"T_bae25_row6_col3\" class=\"data row6 col3\" >5000000</td>\n",
       "                        <td id=\"T_bae25_row6_col4\" class=\"data row6 col4\" >6220000</td>\n",
       "                        <td id=\"T_bae25_row6_col5\" class=\"data row6 col5\" >8000000</td>\n",
       "                        <td id=\"T_bae25_row6_col6\" class=\"data row6 col6\" >10430688</td>\n",
       "                        <td id=\"T_bae25_row6_col7\" class=\"data row6 col7\" >15000000</td>\n",
       "            </tr>\n",
       "            <tr>\n",
       "                        <th id=\"T_bae25_level0_row7\" class=\"row_heading level0 row7\" >Social, Finance, Analytics, Advertising</th>\n",
       "                        <td id=\"T_bae25_row7_col0\" class=\"data row7 col0\" >133</td>\n",
       "                        <td id=\"T_bae25_row7_col1\" class=\"data row7 col1\" >8191008</td>\n",
       "                        <td id=\"T_bae25_row7_col2\" class=\"data row7 col2\" >2741593</td>\n",
       "                        <td id=\"T_bae25_row7_col3\" class=\"data row7 col3\" >5000000</td>\n",
       "                        <td id=\"T_bae25_row7_col4\" class=\"data row7 col4\" >5918360</td>\n",
       "                        <td id=\"T_bae25_row7_col5\" class=\"data row7 col5\" >7719600</td>\n",
       "                        <td id=\"T_bae25_row7_col6\" class=\"data row7 col6\" >10000000</td>\n",
       "                        <td id=\"T_bae25_row7_col7\" class=\"data row7 col7\" >15000000</td>\n",
       "            </tr>\n",
       "    </tbody></table>"
      ],
      "text/plain": [
       "<pandas.io.formats.style.Styler at 0x1ad007a1ee0>"
      ]
     },
     "execution_count": 65,
     "metadata": {},
     "output_type": "execute_result"
    }
   ],
   "source": [
    "D2.groupby('main_sector').describe().style.background_gradient(cmap='Greys',axis=0).set_precision(0)"
   ]
  },
  {
   "cell_type": "markdown",
   "id": "0604b2d5",
   "metadata": {},
   "source": [
    "\n",
    "As per above table we can conclude this:\n",
    "\n",
    "|Country 2  | Sector Name | No. of Investment |\n",
    "| --- | --- | --- |\n",
    "| 1| Others | 147 |\n",
    "| 2| Social, Finance, Analytics, Advertising | 133 |\n",
    "| 3| Cleantech / Semiconductors | 128 |\n",
    "\n",
    "-----"
   ]
  },
  {
   "cell_type": "code",
   "execution_count": 66,
   "id": "3092909c",
   "metadata": {},
   "outputs": [
    {
     "data": {
      "text/html": [
       "<style  type=\"text/css\" >\n",
       "#T_7ab82_row0_col0,#T_7ab82_row0_col3,#T_7ab82_row1_col1,#T_7ab82_row1_col3,#T_7ab82_row1_col4,#T_7ab82_row1_col5,#T_7ab82_row1_col6,#T_7ab82_row2_col3,#T_7ab82_row2_col5,#T_7ab82_row3_col2,#T_7ab82_row3_col3,#T_7ab82_row3_col7,#T_7ab82_row4_col3,#T_7ab82_row5_col3,#T_7ab82_row5_col5,#T_7ab82_row6_col3,#T_7ab82_row7_col3{\n",
       "            background-color:  #fff5f0;\n",
       "            color:  #000000;\n",
       "        }#T_7ab82_row0_col1,#T_7ab82_row0_col2,#T_7ab82_row0_col5,#T_7ab82_row0_col6,#T_7ab82_row0_col7,#T_7ab82_row1_col7,#T_7ab82_row2_col7,#T_7ab82_row4_col4,#T_7ab82_row4_col7,#T_7ab82_row5_col7,#T_7ab82_row6_col0,#T_7ab82_row6_col7,#T_7ab82_row7_col7{\n",
       "            background-color:  #67000d;\n",
       "            color:  #f1f1f1;\n",
       "        }#T_7ab82_row0_col4{\n",
       "            background-color:  #fc8262;\n",
       "            color:  #000000;\n",
       "        }#T_7ab82_row1_col0{\n",
       "            background-color:  #fee9df;\n",
       "            color:  #000000;\n",
       "        }#T_7ab82_row1_col2{\n",
       "            background-color:  #f6583e;\n",
       "            color:  #000000;\n",
       "        }#T_7ab82_row2_col0{\n",
       "            background-color:  #fdc9b3;\n",
       "            color:  #000000;\n",
       "        }#T_7ab82_row2_col1{\n",
       "            background-color:  #fee3d7;\n",
       "            color:  #000000;\n",
       "        }#T_7ab82_row2_col2{\n",
       "            background-color:  #fa6648;\n",
       "            color:  #000000;\n",
       "        }#T_7ab82_row2_col4,#T_7ab82_row6_col4,#T_7ab82_row7_col4{\n",
       "            background-color:  #fcc1a8;\n",
       "            color:  #000000;\n",
       "        }#T_7ab82_row2_col6,#T_7ab82_row3_col6,#T_7ab82_row4_col6,#T_7ab82_row5_col6{\n",
       "            background-color:  #fff0e9;\n",
       "            color:  #000000;\n",
       "        }#T_7ab82_row3_col0,#T_7ab82_row7_col5{\n",
       "            background-color:  #ffebe2;\n",
       "            color:  #000000;\n",
       "        }#T_7ab82_row3_col1{\n",
       "            background-color:  #fcbca2;\n",
       "            color:  #000000;\n",
       "        }#T_7ab82_row3_col4{\n",
       "            background-color:  #b91419;\n",
       "            color:  #f1f1f1;\n",
       "        }#T_7ab82_row3_col5,#T_7ab82_row6_col5{\n",
       "            background-color:  #fca082;\n",
       "            color:  #000000;\n",
       "        }#T_7ab82_row4_col0{\n",
       "            background-color:  #fee7dc;\n",
       "            color:  #000000;\n",
       "        }#T_7ab82_row4_col1{\n",
       "            background-color:  #f44f39;\n",
       "            color:  #000000;\n",
       "        }#T_7ab82_row4_col2{\n",
       "            background-color:  #fb7d5d;\n",
       "            color:  #000000;\n",
       "        }#T_7ab82_row4_col5{\n",
       "            background-color:  #e32f27;\n",
       "            color:  #f1f1f1;\n",
       "        }#T_7ab82_row5_col0,#T_7ab82_row7_col1{\n",
       "            background-color:  #fc8a6a;\n",
       "            color:  #000000;\n",
       "        }#T_7ab82_row5_col1{\n",
       "            background-color:  #fff0e8;\n",
       "            color:  #000000;\n",
       "        }#T_7ab82_row5_col2{\n",
       "            background-color:  #fcb296;\n",
       "            color:  #000000;\n",
       "        }#T_7ab82_row5_col4{\n",
       "            background-color:  #fdcab5;\n",
       "            color:  #000000;\n",
       "        }#T_7ab82_row6_col1,#T_7ab82_row6_col6{\n",
       "            background-color:  #fc8565;\n",
       "            color:  #000000;\n",
       "        }#T_7ab82_row6_col2{\n",
       "            background-color:  #d92523;\n",
       "            color:  #f1f1f1;\n",
       "        }#T_7ab82_row7_col0{\n",
       "            background-color:  #fb6e4e;\n",
       "            color:  #000000;\n",
       "        }#T_7ab82_row7_col2{\n",
       "            background-color:  #de2b25;\n",
       "            color:  #f1f1f1;\n",
       "        }#T_7ab82_row7_col6{\n",
       "            background-color:  #fcb499;\n",
       "            color:  #000000;\n",
       "        }</style><table id=\"T_7ab82_\" ><thead>    <tr>        <th class=\"blank level0\" ></th>        <th class=\"col_heading level0 col0\" colspan=\"8\">raised_amount_usd</th>    </tr>    <tr>        <th class=\"blank level1\" ></th>        <th class=\"col_heading level1 col0\" >count</th>        <th class=\"col_heading level1 col1\" >mean</th>        <th class=\"col_heading level1 col2\" >std</th>        <th class=\"col_heading level1 col3\" >min</th>        <th class=\"col_heading level1 col4\" >25%</th>        <th class=\"col_heading level1 col5\" >50%</th>        <th class=\"col_heading level1 col6\" >75%</th>        <th class=\"col_heading level1 col7\" >max</th>    </tr>    <tr>        <th class=\"index_name level0\" >main_sector</th>        <th class=\"blank\" ></th>        <th class=\"blank\" ></th>        <th class=\"blank\" ></th>        <th class=\"blank\" ></th>        <th class=\"blank\" ></th>        <th class=\"blank\" ></th>        <th class=\"blank\" ></th>        <th class=\"blank\" ></th>    </tr></thead><tbody>\n",
       "                <tr>\n",
       "                        <th id=\"T_7ab82_level0_row0\" class=\"row_heading level0 row0\" >Automotive & Sports</th>\n",
       "                        <td id=\"T_7ab82_row0_col0\" class=\"data row0 col0\" >13</td>\n",
       "                        <td id=\"T_7ab82_row0_col1\" class=\"data row0 col1\" >10530769</td>\n",
       "                        <td id=\"T_7ab82_row0_col2\" class=\"data row0 col2\" >3974373</td>\n",
       "                        <td id=\"T_7ab82_row0_col3\" class=\"data row0 col3\" >5000000</td>\n",
       "                        <td id=\"T_7ab82_row0_col4\" class=\"data row0 col4\" >6500000</td>\n",
       "                        <td id=\"T_7ab82_row0_col5\" class=\"data row0 col5\" >11000000</td>\n",
       "                        <td id=\"T_7ab82_row0_col6\" class=\"data row0 col6\" >15000000</td>\n",
       "                        <td id=\"T_7ab82_row0_col7\" class=\"data row0 col7\" >15000000</td>\n",
       "            </tr>\n",
       "            <tr>\n",
       "                        <th id=\"T_7ab82_level0_row1\" class=\"row_heading level0 row1\" >Cleantech / Semiconductors</th>\n",
       "                        <td id=\"T_7ab82_row1_col0\" class=\"data row1 col0\" >20</td>\n",
       "                        <td id=\"T_7ab82_row1_col1\" class=\"data row1 col1\" >8269000</td>\n",
       "                        <td id=\"T_7ab82_row1_col2\" class=\"data row1 col2\" >3173212</td>\n",
       "                        <td id=\"T_7ab82_row1_col3\" class=\"data row1 col3\" >5000000</td>\n",
       "                        <td id=\"T_7ab82_row1_col4\" class=\"data row1 col4\" >5397500</td>\n",
       "                        <td id=\"T_7ab82_row1_col5\" class=\"data row1 col5\" >8000000</td>\n",
       "                        <td id=\"T_7ab82_row1_col6\" class=\"data row1 col6\" >9850000</td>\n",
       "                        <td id=\"T_7ab82_row1_col7\" class=\"data row1 col7\" >15000000</td>\n",
       "            </tr>\n",
       "            <tr>\n",
       "                        <th id=\"T_7ab82_level0_row2\" class=\"row_heading level0 row2\" >Entertainment</th>\n",
       "                        <td id=\"T_7ab82_row2_col0\" class=\"data row2 col0\" >33</td>\n",
       "                        <td id=\"T_7ab82_row2_col1\" class=\"data row2 col1\" >8510000</td>\n",
       "                        <td id=\"T_7ab82_row2_col2\" class=\"data row2 col2\" >3102527</td>\n",
       "                        <td id=\"T_7ab82_row2_col3\" class=\"data row2 col3\" >5000000</td>\n",
       "                        <td id=\"T_7ab82_row2_col4\" class=\"data row2 col4\" >6000000</td>\n",
       "                        <td id=\"T_7ab82_row2_col5\" class=\"data row2 col5\" >8000000</td>\n",
       "                        <td id=\"T_7ab82_row2_col6\" class=\"data row2 col6\" >10000000</td>\n",
       "                        <td id=\"T_7ab82_row2_col7\" class=\"data row2 col7\" >15000000</td>\n",
       "            </tr>\n",
       "            <tr>\n",
       "                        <th id=\"T_7ab82_level0_row3\" class=\"row_heading level0 row3\" >Health</th>\n",
       "                        <td id=\"T_7ab82_row3_col0\" class=\"data row3 col0\" >19</td>\n",
       "                        <td id=\"T_7ab82_row3_col1\" class=\"data row3 col1\" >8828421</td>\n",
       "                        <td id=\"T_7ab82_row3_col2\" class=\"data row3 col2\" >2200690</td>\n",
       "                        <td id=\"T_7ab82_row3_col3\" class=\"data row3 col3\" >5000000</td>\n",
       "                        <td id=\"T_7ab82_row3_col4\" class=\"data row3 col4\" >7500000</td>\n",
       "                        <td id=\"T_7ab82_row3_col5\" class=\"data row3 col5\" >9000000</td>\n",
       "                        <td id=\"T_7ab82_row3_col6\" class=\"data row3 col6\" >10000000</td>\n",
       "                        <td id=\"T_7ab82_row3_col7\" class=\"data row3 col7\" >13080000</td>\n",
       "            </tr>\n",
       "            <tr>\n",
       "                        <th id=\"T_7ab82_level0_row4\" class=\"row_heading level0 row4\" >Manufacturing</th>\n",
       "                        <td id=\"T_7ab82_row4_col0\" class=\"data row4 col0\" >21</td>\n",
       "                        <td id=\"T_7ab82_row4_col1\" class=\"data row4 col1\" >9566667</td>\n",
       "                        <td id=\"T_7ab82_row4_col2\" class=\"data row4 col2\" >2982798</td>\n",
       "                        <td id=\"T_7ab82_row4_col3\" class=\"data row4 col3\" >5000000</td>\n",
       "                        <td id=\"T_7ab82_row4_col4\" class=\"data row4 col4\" >8000000</td>\n",
       "                        <td id=\"T_7ab82_row4_col5\" class=\"data row4 col5\" >10000000</td>\n",
       "                        <td id=\"T_7ab82_row4_col6\" class=\"data row4 col6\" >10000000</td>\n",
       "                        <td id=\"T_7ab82_row4_col7\" class=\"data row4 col7\" >15000000</td>\n",
       "            </tr>\n",
       "            <tr>\n",
       "                        <th id=\"T_7ab82_level0_row5\" class=\"row_heading level0 row5\" >News, Search and Messaging</th>\n",
       "                        <td id=\"T_7ab82_row5_col0\" class=\"data row5 col0\" >52</td>\n",
       "                        <td id=\"T_7ab82_row5_col1\" class=\"data row5 col1\" >8342972</td>\n",
       "                        <td id=\"T_7ab82_row5_col2\" class=\"data row5 col2\" >2698080</td>\n",
       "                        <td id=\"T_7ab82_row5_col3\" class=\"data row5 col3\" >5000000</td>\n",
       "                        <td id=\"T_7ab82_row5_col4\" class=\"data row5 col4\" >5925000</td>\n",
       "                        <td id=\"T_7ab82_row5_col5\" class=\"data row5 col5\" >8000000</td>\n",
       "                        <td id=\"T_7ab82_row5_col6\" class=\"data row5 col6\" >10000000</td>\n",
       "                        <td id=\"T_7ab82_row5_col7\" class=\"data row5 col7\" >15000000</td>\n",
       "            </tr>\n",
       "            <tr>\n",
       "                        <th id=\"T_7ab82_level0_row6\" class=\"row_heading level0 row6\" >Others</th>\n",
       "                        <td id=\"T_7ab82_row6_col0\" class=\"data row6 col0\" >110</td>\n",
       "                        <td id=\"T_7ab82_row6_col1\" class=\"data row6 col1\" >9212814</td>\n",
       "                        <td id=\"T_7ab82_row6_col2\" class=\"data row6 col2\" >3442976</td>\n",
       "                        <td id=\"T_7ab82_row6_col3\" class=\"data row6 col3\" >5000000</td>\n",
       "                        <td id=\"T_7ab82_row6_col4\" class=\"data row6 col4\" >6000000</td>\n",
       "                        <td id=\"T_7ab82_row6_col5\" class=\"data row6 col5\" >9000000</td>\n",
       "                        <td id=\"T_7ab82_row6_col6\" class=\"data row6 col6\" >12000000</td>\n",
       "                        <td id=\"T_7ab82_row6_col7\" class=\"data row6 col7\" >15000000</td>\n",
       "            </tr>\n",
       "            <tr>\n",
       "                        <th id=\"T_7ab82_level0_row7\" class=\"row_heading level0 row7\" >Social, Finance, Analytics, Advertising</th>\n",
       "                        <td id=\"T_7ab82_row7_col0\" class=\"data row7 col0\" >60</td>\n",
       "                        <td id=\"T_7ab82_row7_col1\" class=\"data row7 col1\" >9175826</td>\n",
       "                        <td id=\"T_7ab82_row7_col2\" class=\"data row7 col2\" >3412513</td>\n",
       "                        <td id=\"T_7ab82_row7_col3\" class=\"data row7 col3\" >5000000</td>\n",
       "                        <td id=\"T_7ab82_row7_col4\" class=\"data row7 col4\" >6000000</td>\n",
       "                        <td id=\"T_7ab82_row7_col5\" class=\"data row7 col5\" >8178025</td>\n",
       "                        <td id=\"T_7ab82_row7_col6\" class=\"data row7 col6\" >11250000</td>\n",
       "                        <td id=\"T_7ab82_row7_col7\" class=\"data row7 col7\" >15000000</td>\n",
       "            </tr>\n",
       "    </tbody></table>"
      ],
      "text/plain": [
       "<pandas.io.formats.style.Styler at 0x1ad002d2fa0>"
      ]
     },
     "execution_count": 66,
     "metadata": {},
     "output_type": "execute_result"
    }
   ],
   "source": [
    "D3.groupby('main_sector').describe().style.background_gradient(cmap='Reds',axis=0).set_precision(0)"
   ]
  },
  {
   "cell_type": "markdown",
   "id": "e3d62dec",
   "metadata": {},
   "source": [
    "\n",
    "As per above table we can conclude this:\n",
    "\n",
    "|Country 3  | Sector Name | No. of Investment |\n",
    "| --- | --- | --- |\n",
    "| 1| Others | 110 |\n",
    "| 2| Social, Finance, Analytics, Advertising | 60 |\n",
    "| 3| News, Search and Messaging | 52 |\n",
    "\n",
    "-----"
   ]
  },
  {
   "cell_type": "code",
   "execution_count": 67,
   "id": "3ff34e65",
   "metadata": {},
   "outputs": [
    {
     "data": {
      "text/html": [
       "<div>\n",
       "<style scoped>\n",
       "    .dataframe tbody tr th:only-of-type {\n",
       "        vertical-align: middle;\n",
       "    }\n",
       "\n",
       "    .dataframe tbody tr th {\n",
       "        vertical-align: top;\n",
       "    }\n",
       "\n",
       "    .dataframe thead th {\n",
       "        text-align: right;\n",
       "    }\n",
       "</style>\n",
       "<table border=\"1\" class=\"dataframe\">\n",
       "  <thead>\n",
       "    <tr style=\"text-align: right;\">\n",
       "      <th></th>\n",
       "      <th>raised_amount_usd</th>\n",
       "    </tr>\n",
       "    <tr>\n",
       "      <th>company_permalink</th>\n",
       "      <th></th>\n",
       "    </tr>\n",
       "  </thead>\n",
       "  <tbody>\n",
       "    <tr>\n",
       "      <th>/organization/virtustream</th>\n",
       "      <td>64300000.000</td>\n",
       "    </tr>\n",
       "    <tr>\n",
       "      <th>/organization/capella</th>\n",
       "      <td>54968051.000</td>\n",
       "    </tr>\n",
       "    <tr>\n",
       "      <th>/organization/airtight-networks</th>\n",
       "      <td>54201907.000</td>\n",
       "    </tr>\n",
       "    <tr>\n",
       "      <th>/organization/decarta</th>\n",
       "      <td>52100000.000</td>\n",
       "    </tr>\n",
       "    <tr>\n",
       "      <th>/organization/black-duck-software</th>\n",
       "      <td>51000000.000</td>\n",
       "    </tr>\n",
       "    <tr>\n",
       "      <th>...</th>\n",
       "      <td>...</td>\n",
       "    </tr>\n",
       "    <tr>\n",
       "      <th>/organization/startforce</th>\n",
       "      <td>5000000.000</td>\n",
       "    </tr>\n",
       "    <tr>\n",
       "      <th>/organization/lumeta</th>\n",
       "      <td>5000000.000</td>\n",
       "    </tr>\n",
       "    <tr>\n",
       "      <th>/organization/storenvy</th>\n",
       "      <td>5000000.000</td>\n",
       "    </tr>\n",
       "    <tr>\n",
       "      <th>/organization/stormwind</th>\n",
       "      <td>5000000.000</td>\n",
       "    </tr>\n",
       "    <tr>\n",
       "      <th>/organization/reachforce</th>\n",
       "      <td>5000000.000</td>\n",
       "    </tr>\n",
       "  </tbody>\n",
       "</table>\n",
       "<p>2049 rows × 1 columns</p>\n",
       "</div>"
      ],
      "text/plain": [
       "                                   raised_amount_usd\n",
       "company_permalink                                   \n",
       "/organization/virtustream               64300000.000\n",
       "/organization/capella                   54968051.000\n",
       "/organization/airtight-networks         54201907.000\n",
       "/organization/decarta                   52100000.000\n",
       "/organization/black-duck-software       51000000.000\n",
       "...                                              ...\n",
       "/organization/startforce                 5000000.000\n",
       "/organization/lumeta                     5000000.000\n",
       "/organization/storenvy                   5000000.000\n",
       "/organization/stormwind                  5000000.000\n",
       "/organization/reachforce                 5000000.000\n",
       "\n",
       "[2049 rows x 1 columns]"
      ]
     },
     "execution_count": 67,
     "metadata": {},
     "output_type": "execute_result"
    }
   ],
   "source": [
    "#Checking top company in top sector in country 1\n",
    "\n",
    "top_company_c1=D1[D1['main_sector']=='Others']\n",
    "\n",
    "top_company_c1.groupby('company_permalink').sum().sort_values('raised_amount_usd',ascending=False)"
   ]
  },
  {
   "cell_type": "code",
   "execution_count": 68,
   "id": "f68a0fda",
   "metadata": {},
   "outputs": [
    {
     "name": "stdout",
     "output_type": "stream",
     "text": [
      "                   raised_amount_usd\n",
      "name                                \n",
      "Virtustream             64300000.000\n",
      "Capella Photonics       54968051.000\n",
      "AirTight Networks       54201907.000\n",
      "                                 raised_amount_usd\n",
      "name                                              \n",
      "SST Inc. (Formerly ShotSpotter)       67933006.000\n",
      "Demandbase                            63000000.000\n",
      "Intacct                               61800000.000\n"
     ]
    }
   ],
   "source": [
    "#Checking top companies in top 2 sectors in country 1\n",
    "\n",
    "top_company_c1=D1[D1['main_sector']=='Others']\n",
    "print(top_company_c1.pivot_table(values='raised_amount_usd',\n",
    "                            index=['name'],\n",
    "                            aggfunc='sum').sort_values('raised_amount_usd',ascending=False).head(3))\n",
    "\n",
    "\n",
    "top2_company_c1=D1[D1['main_sector']=='Social, Finance, Analytics, Advertising']\n",
    "print(top2_company_c1.pivot_table(values='raised_amount_usd',\n",
    "                            index=['name'],\n",
    "                            aggfunc='sum').sort_values('raised_amount_usd',ascending=False).head(3))"
   ]
  },
  {
   "cell_type": "code",
   "execution_count": 69,
   "id": "289413d8",
   "metadata": {},
   "outputs": [
    {
     "name": "stdout",
     "output_type": "stream",
     "text": [
      "                raised_amount_usd\n",
      "name                             \n",
      "Electric Cloud       37000000.000\n",
      "SenSage              36250000.000\n",
      "Enigmatec            32500000.000\n",
      "                       raised_amount_usd\n",
      "name                                    \n",
      "Celltick Technologies       37500000.000\n",
      "myThings                    34000000.000\n",
      "Zopa                        32900000.000\n"
     ]
    }
   ],
   "source": [
    "#Checking top companies in top 2 sectors in country 2\n",
    "\n",
    "top_company_c2=D2[D2['main_sector']=='Others']\n",
    "print(top_company_c2.pivot_table(values='raised_amount_usd',\n",
    "                            index=['name'],\n",
    "                            aggfunc='sum').sort_values('raised_amount_usd',ascending=False).head(3))\n",
    "\n",
    "top2_company_c2=D2[D2['main_sector']=='Social, Finance, Analytics, Advertising']\n",
    "print(top2_company_c2.pivot_table(values='raised_amount_usd',\n",
    "                            index=['name'],\n",
    "                            aggfunc='sum').sort_values('raised_amount_usd',ascending=False).head(3))"
   ]
  },
  {
   "cell_type": "code",
   "execution_count": 70,
   "id": "d2f6c74c",
   "metadata": {},
   "outputs": [
    {
     "name": "stdout",
     "output_type": "stream",
     "text": [
      "              raised_amount_usd\n",
      "name                           \n",
      "FirstCry.com       39000000.000\n",
      "Myntra             38000000.000\n",
      "CommonFloor        32900000.000\n",
      "                 raised_amount_usd\n",
      "name                              \n",
      "Manthan Systems       50700000.000\n",
      "Komli Media           28000000.000\n",
      "ShopClues.com         25000000.000\n"
     ]
    }
   ],
   "source": [
    "#Checking top companies in top 2 sectors in country 3\n",
    "\n",
    "top_company_c3=D3[D3['main_sector']=='Others']\n",
    "print(top_company_c3.pivot_table(values='raised_amount_usd',\n",
    "                            index=['name'],\n",
    "                            aggfunc='sum').sort_values('raised_amount_usd',ascending=False).head(3))\n",
    "\n",
    "top2_company_c3=D3[D3['main_sector']=='Social, Finance, Analytics, Advertising']\n",
    "print(top2_company_c3.pivot_table(values='raised_amount_usd',\n",
    "                            index=['name'],\n",
    "                            aggfunc='sum').sort_values('raised_amount_usd',ascending=False).head(3))"
   ]
  },
  {
   "cell_type": "markdown",
   "id": "b5756558",
   "metadata": {},
   "source": [
    "### Below is summary table of each countries top sector with compnay name and raised amount"
   ]
  },
  {
   "cell_type": "markdown",
   "id": "6b127c47",
   "metadata": {},
   "source": [
    "|Country|Sector|Compnay Name|Raised Amount|\n",
    "|-|-|--|-|\n",
    "|Country 1|Others|Virtustream|64300000|\n",
    "||Social, Finance, Analytics, Advertising|SST Inc. (Formerly ShotSpotter)|67933006|\n",
    "|Country 2|Others|Electric Cloud|37000000|\n",
    "||Social, Finance, Analytics, Advertising|Celltick Technologies |37500000|\n",
    "|Country 3|Others|FirstCry.com|39000000|\n",
    "||Social, Finance, Analytics, Advertising|Manthan Systems|50700000|"
   ]
  },
  {
   "cell_type": "markdown",
   "id": "13b74336",
   "metadata": {},
   "source": [
    "# Checkpoint 6: Plots\n"
   ]
  },
  {
   "cell_type": "markdown",
   "id": "95630758",
   "metadata": {},
   "source": [
    "## 1. A plot showing the representative amount of investment in each funding type. This chart should make it clear that a certain funding type (FT) is best suited for Spark Funds."
   ]
  },
  {
   "cell_type": "code",
   "execution_count": 71,
   "id": "72d8d0a4",
   "metadata": {},
   "outputs": [
    {
     "data": {
      "image/png": "[encoded data removed]",
      "text/plain": [
       "<Figure size 720x432 with 1 Axes>"
      ]
     },
     "metadata": {
      "needs_background": "light"
     },
     "output_type": "display_data"
    }
   ],
   "source": [
    "# Plot showing the representative amount of investment in each funding type\n",
    "\n",
    "plt.figure(figsize=(10,6))\n",
    "plots=sns.barplot(data=fund4,x='funding_round_type',y='raised_amount_usd',estimator=np.mean,order=ord,ci=None)\n",
    "\n",
    "for bar in plots.patches:\n",
    "    plots.annotate(format(bar.get_height(), '.0f'), \n",
    "                       (bar.get_x() + bar.get_width() / 2, \n",
    "                        bar.get_height()), ha='center', va='center',\n",
    "                       size=11, xytext=(7, 6),\n",
    "                       textcoords='offset points')\n",
    "\n",
    "plt.xticks(fontsize=15)\n",
    "plt.yticks(fontsize=15)\n",
    "plt.xlabel('Type of Funding', fontsize=16)\n",
    "plt.ylabel('Raised Amount in USD', fontsize=16)\n",
    "plt.title('Average Raised Amount by each type of funding',fontsize=20)\n",
    "plt.grid(axis = 'y', linestyle = '--')\n",
    "\n",
    "#Ploting Horizontal line at 5 and 15 miliion\n",
    "plt.axhline(y=5000000, color='r', linestyle='--')\n",
    "plt.axhline(y=15000000, color='r', linestyle='--')\n",
    "\n",
    "plt.tight_layout()\n",
    "plt.savefig('Plots/Average Raised Amount by each type of funding 4',dpi=200)\n"
   ]
  },
  {
   "cell_type": "markdown",
   "id": "9944fafc",
   "metadata": {},
   "source": [
    "--------"
   ]
  },
  {
   "cell_type": "markdown",
   "id": "61842ecc",
   "metadata": {},
   "source": [
    "##  2. Plot showing the top 9 countries against the total amount of investments of funding type FT. This should make the top 3 countries (Country 1, Country 2, and Country 3) very clear."
   ]
  },
  {
   "cell_type": "code",
   "execution_count": 72,
   "id": "f6577df4",
   "metadata": {},
   "outputs": [],
   "source": [
    "#Creating columns to separate English Speaking countries\n",
    "top9['English Speaking']=np.where(top9['country_code'].isin(['USA','GBR','IND','CAN']),'yes','no')"
   ]
  },
  {
   "cell_type": "code",
   "execution_count": 73,
   "id": "420fb457",
   "metadata": {},
   "outputs": [
    {
     "data": {
      "image/png": "[encoded data removed]",
      "text/plain": [
       "<Figure size 864x432 with 1 Axes>"
      ]
     },
     "metadata": {
      "needs_background": "light"
     },
     "output_type": "display_data"
    }
   ],
   "source": [
    "plt.figure(figsize=(12,6))\n",
    "\n",
    "ord_top=top9.groupby('country_code').sum().sort_values('raised_amount_usd',ascending=False).index\n",
    "\n",
    "sns.barplot(data=top9,x=top9['country_code'],y=top9['raised_amount_usd'],hue=top9['English Speaking'],\n",
    "            order=ord_top,dodge=False,estimator=np.sum,ci=None)\n",
    "\n",
    "plt.xticks(fontsize=15)\n",
    "plt.yticks(fontsize=15)\n",
    "plt.xlabel('Top 9 Countries', fontsize=16)\n",
    "plt.ylabel('Raised Amount in USD', fontsize=16)\n",
    "plt.title('Total Raised Amount by Top 9 Counties',fontsize=20)\n",
    "\n",
    "\n",
    "\n",
    "plt.tight_layout()\n",
    "plt.savefig('Plots/Total Raised Amount by Top 9 Counties',dpi=200)"
   ]
  },
  {
   "cell_type": "markdown",
   "id": "5bbd6d41",
   "metadata": {},
   "source": [
    "## 3. A plot showing the number of investments in the top 3 sectors of the top 3 countries on one chart (for the chosen investment type FT). This plot should clearly display the top 3 sectors each in Country 1, Country 2, and Country 3."
   ]
  },
  {
   "cell_type": "code",
   "execution_count": 74,
   "id": "2c5b7ef0",
   "metadata": {},
   "outputs": [],
   "source": [
    "#concatenating three dataframe to visualize with countries and sectors\n",
    "\n",
    "top3_sector_country=pd.concat([(D1.pivot_table(values='raised_amount_usd',\n",
    "                                index=['country_code','main_sector'],\n",
    "                                aggfunc='count').sort_values('raised_amount_usd',ascending=False).head(3)),\n",
    "                               (D2.pivot_table(values='raised_amount_usd',\n",
    "                                index=['country_code','main_sector'],\n",
    "                                aggfunc='count').sort_values('raised_amount_usd',ascending=False).head(3)),\n",
    "                               (D3.pivot_table(values='raised_amount_usd',\n",
    "                                index=['country_code','main_sector'],\n",
    "                                aggfunc='count').sort_values('raised_amount_usd',ascending=False).head(3))],axis=0)\n",
    "#reset index\n",
    "top3_sector_country=top3_sector_country.reset_index()"
   ]
  },
  {
   "cell_type": "code",
   "execution_count": 75,
   "id": "84f283a8",
   "metadata": {},
   "outputs": [
    {
     "data": {
      "image/png": "[encoded data removed]",
      "text/plain": [
       "<Figure size 720x432 with 1 Axes>"
      ]
     },
     "metadata": {
      "needs_background": "light"
     },
     "output_type": "display_data"
    }
   ],
   "source": [
    "# Plot showing the number of investments in the top 3 sectors of the top 3 countries\n",
    "plt.figure(figsize=(10,6))\n",
    "\n",
    "\n",
    "plots=sns.barplot(data=top3_sector_country,hue='main_sector',y='raised_amount_usd',ci=None,x='country_code',dodge=True)\n",
    "for bar in plots.patches:\n",
    "    plots.annotate(format(bar.get_height(), '.0f'), \n",
    "                       (bar.get_x() + bar.get_width() / 2, \n",
    "                        bar.get_height()), ha='center', va='center',\n",
    "                       size=10, xytext=(0, 8),\n",
    "                       textcoords='offset points')\n",
    "\n",
    "plt.xticks(fontsize=15)\n",
    "plt.yticks(fontsize=15)\n",
    "plt.xlabel('Top 9 Countries', fontsize=18)\n",
    "plt.ylabel('Number of Investment', fontsize=18)\n",
    "plt.title('Number of Investment Amount by Top 3 Countries in Top 3 Sectors',fontsize=20)\n",
    "\n",
    "\n",
    "plt.tight_layout()\n",
    "plt.savefig('Plots/No of Investment in Top 3 Countries in Top 3 Sectors',dpi=200)"
   ]
  },
  {
   "cell_type": "markdown",
   "id": "7a455f92",
   "metadata": {},
   "source": [
    "# Conclusions:\n",
    "\n",
    "* Based on analysis done on data, Spark fund should consider investing in countries USA, GBR, and IND.\n",
    "* In these Spark Fund can invest in the top sector as followings: Others, Social, Finance, Analytics, Advertising and News, Search and Messaging.\n",
    "* Below are top companies in their top sector and country:\n",
    "\n",
    "<br>\n",
    "\n",
    "\n",
    "|Country|Sector|Compnay Name|Raised Amount|\n",
    "|-|-|--|-|\n",
    "|Country 1|Others|Virtustream|64300000|\n",
    "||Social, Finance, Analytics, Advertising|SST Inc. (Formerly ShotSpotter)|67933006|\n",
    "|Country 2|Others|Electric Cloud|37000000|\n",
    "||Social, Finance, Analytics, Advertising|Celltick Technologies |37500000|\n",
    "|Country 3|Others|FirstCry.com|39000000|\n",
    "||Social, Finance, Analytics, Advertising|Manthan Systems|50700000|\n"
   ]
  },
  {
   "cell_type": "markdown",
   "id": "437317c0",
   "metadata": {},
   "source": [
    "---------------------"
   ]
  }
 ],
 "metadata": {
  "kernelspec": {
   "display_name": "Python 3",
   "language": "python",
   "name": "python3"
  },
  "language_info": {
   "codemirror_mode": {
    "name": "ipython",
    "version": 3
   },
   "file_extension": ".py",
   "mimetype": "text/x-python",
   "name": "python",
   "nbconvert_exporter": "python",
   "pygments_lexer": "ipython3",
   "version": "3.8.8"
  }
 },
 "nbformat": 4,
 "nbformat_minor": 5
}
